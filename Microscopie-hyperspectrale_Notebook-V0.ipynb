{
  "nbformat": 4,
  "nbformat_minor": 5,
  "metadata": {
    "kernelspec": {
      "display_name": "Python 3",
      "language": "python",
      "name": "python3"
    },
    "language_info": {
      "codemirror_mode": {
        "name": "ipython",
        "version": 3
      },
      "file_extension": ".py",
      "mimetype": "text/x-python",
      "name": "python",
      "nbconvert_exporter": "python",
      "pygments_lexer": "ipython3",
      "version": "3.8.10"
    },
    "colab": {
      "name": "Microscopie-hyperspectrale_Notebook-V0.ipynb",
      "provenance": []
    }
  },
  "cells": [
    {
      "cell_type": "markdown",
      "metadata": {
        "id": "4c72c603"
      },
      "source": [
        "# Microscopie hyperspectrale"
      ],
      "id": "4c72c603"
    },
    {
      "cell_type": "markdown",
      "metadata": {
        "id": "2d25ddd5"
      },
      "source": [
        "Quentin Douzery  \n",
        "Alexia Ghozland"
      ],
      "id": "2d25ddd5"
    },
    {
      "cell_type": "markdown",
      "metadata": {
        "id": "77dd8ea1"
      },
      "source": [
        "## 1. Imports"
      ],
      "id": "77dd8ea1"
    },
    {
      "cell_type": "markdown",
      "metadata": {
        "id": "453bbb44"
      },
      "source": [
        "### 1.1. Packages"
      ],
      "id": "453bbb44"
    },
    {
      "cell_type": "code",
      "metadata": {
        "id": "99206fc6"
      },
      "source": [
        "import h5py\n",
        "import numpy as np\n",
        "import os\n",
        "from joblib import Parallel, delayed\n",
        "import math"
      ],
      "id": "99206fc6",
      "execution_count": 62,
      "outputs": []
    },
    {
      "cell_type": "code",
      "metadata": {
        "id": "wP16q3rS8yCx",
        "colab": {
          "base_uri": "https://localhost:8080/"
        },
        "outputId": "77e0ab95-390b-423e-c04d-3a4fafcbd682"
      },
      "source": [
        "from google.colab import drive\n",
        "drive.mount('/content/gdrive')"
      ],
      "id": "wP16q3rS8yCx",
      "execution_count": 63,
      "outputs": [
        {
          "output_type": "stream",
          "name": "stdout",
          "text": [
            "Drive already mounted at /content/gdrive; to attempt to forcibly remount, call drive.mount(\"/content/gdrive\", force_remount=True).\n"
          ]
        }
      ]
    },
    {
      "cell_type": "markdown",
      "metadata": {
        "id": "0f6b3da5"
      },
      "source": [
        "### 1.2. Images"
      ],
      "id": "0f6b3da5"
    },
    {
      "cell_type": "code",
      "metadata": {
        "id": "e4fbb5aa"
      },
      "source": [
        "#Dictionnaire qui contient les fichiers des images originales\n",
        "#path_dir = \"/content/gdrive/My Drive/Hyperspectral\" #drive directory\n",
        "path_dir = \"/content/gdrive/My Drive/Hyperspectral/Images-hyperspectrales\" \n",
        "#path_dir = \"/home/douzery/Bureau\" #local directory\n",
        "raw_images_names = {\"j5_1_740nm\":os.path.join(path_dir, \"j5-740nm/hdf5-images/j5_1_740nm.h5\")}\n",
        "#raw_images_names = {\"j5_1_740nm\":os.path.join(path_dir, \"Test-hdf5/j5_1_740nm.h5\")}"
      ],
      "id": "e4fbb5aa",
      "execution_count": 64,
      "outputs": []
    },
    {
      "cell_type": "code",
      "metadata": {
        "id": "a0de5ad0"
      },
      "source": [
        "#Dictionnaire qui contient les fichiers des images après segmentation\n",
        "#segmented_images_names = {\"j5_1_740nm-s\":os.path.join(path_dir, \"Test-hdf5/j5_1_740nm-segmented.h5\")}\n",
        "segmented_images_names = {\"j5_1_740nm-s\":os.path.join(path_dir, \"j5-740nm/segmented-images/j5_1_740nm_Simple-Segmentation.h5\")}"
      ],
      "id": "a0de5ad0",
      "execution_count": 65,
      "outputs": []
    },
    {
      "cell_type": "code",
      "metadata": {
        "id": "3b58ba11"
      },
      "source": [
        "#Dictionnaire qui contient les images originales (format hdf5)\n",
        "aux_raw_images = {}\n",
        "for name, path in raw_images_names.items():\n",
        "    aux_raw_images[name] = h5py.File(path, 'r')"
      ],
      "id": "3b58ba11",
      "execution_count": 66,
      "outputs": []
    },
    {
      "cell_type": "code",
      "metadata": {
        "id": "3ajKRlhTB1IN"
      },
      "source": [
        "#Dictionnaire qui contient les images après segmentation (format hdf5)\n",
        "aux_segmented_images = {}\n",
        "for name, path in segmented_images_names.items():\n",
        "    aux_segmented_images[name] = h5py.File(path, 'r')"
      ],
      "id": "3ajKRlhTB1IN",
      "execution_count": 67,
      "outputs": []
    },
    {
      "cell_type": "code",
      "metadata": {
        "id": "Xhhk88BUcy3M"
      },
      "source": [
        "#Dictionnaire qui contient les images originales (utilisables, tableaux Python)\n",
        "raw_images = {}\n",
        "for name, img in aux_raw_images.items():\n",
        "  raw_images[name] = np.reshape(aux_raw_images[name]['data'], (12,512,512,32))"
      ],
      "id": "Xhhk88BUcy3M",
      "execution_count": 68,
      "outputs": []
    },
    {
      "cell_type": "code",
      "metadata": {
        "id": "HHTG7vfUdHZI"
      },
      "source": [
        "#Dictionnaire qui contient les images après segmentation (utilisables, tableau Python)\n",
        "segmented_images = {}\n",
        "for name, img in aux_segmented_images.items():\n",
        "  segmented_images[name] = np.reshape(aux_segmented_images[name]['exported_data'], (12,512,512))"
      ],
      "id": "HHTG7vfUdHZI",
      "execution_count": 69,
      "outputs": []
    },
    {
      "cell_type": "markdown",
      "metadata": {
        "id": "f13e5068"
      },
      "source": [
        "## 2. Caractéristiques des images"
      ],
      "id": "f13e5068"
    },
    {
      "cell_type": "code",
      "metadata": {
        "id": "792d70f3",
        "colab": {
          "base_uri": "https://localhost:8080/"
        },
        "outputId": "b7705962-9a19-469f-91d7-5dd4cb7d517c"
      },
      "source": [
        "print(\"Dimensions de l'image originale (z, y, x, c) :\", raw_images[\"j5_1_740nm\"].shape)\n",
        "print(\"Dimensions de l'image segmentée (z, y, x) :\", segmented_images[\"j5_1_740nm-s\"].shape)"
      ],
      "id": "792d70f3",
      "execution_count": 70,
      "outputs": [
        {
          "output_type": "stream",
          "name": "stdout",
          "text": [
            "Dimensions de l'image originale (z, y, x, c) : (12, 512, 512, 32)\n",
            "Dimensions de l'image segmentée (z, y, x) : (12, 512, 512)\n"
          ]
        }
      ]
    },
    {
      "cell_type": "markdown",
      "metadata": {
        "id": "Gc-CcywDEVFe"
      },
      "source": [
        "## 3. Aperçu des images"
      ],
      "id": "Gc-CcywDEVFe"
    },
    {
      "cell_type": "code",
      "metadata": {
        "colab": {
          "base_uri": "https://localhost:8080/"
        },
        "id": "cUPtAlBGFAuA",
        "outputId": "07203799-30f3-4e45-9761-706594128385"
      },
      "source": [
        "print(\"Valeurs des 32 canaux du premier voxel de l'image originale :\", raw_images[\"j5_1_740nm\"][0][0][0][:], \"\\n\")\n",
        "print(\"Valeur du premier voxel de l'image segmentée (1 = muscle // 2 = non muscle) :\", segmented_images[\"j5_1_740nm-s\"][0][0][0])"
      ],
      "id": "cUPtAlBGFAuA",
      "execution_count": 71,
      "outputs": [
        {
          "output_type": "stream",
          "name": "stdout",
          "text": [
            "Valeurs des 32 canaux du premier voxel de l'image originale : [173 236 207 191  34 160  45 193 187 247  64  93 312  84 264 204 140 224\n",
            " 125 180  95 146 130 183 179 120   2 119 261 158 177 119] \n",
            "\n",
            "Valeur du premier voxel de l'image segmentée (1 = muscle // 2 = non muscle) : 2\n"
          ]
        }
      ]
    },
    {
      "cell_type": "markdown",
      "metadata": {
        "id": "2RAmnrb_Pe2O"
      },
      "source": [
        "## 4. Modification des images segmentées"
      ],
      "id": "2RAmnrb_Pe2O"
    },
    {
      "cell_type": "code",
      "metadata": {
        "id": "QUDIfvO3QbXY"
      },
      "source": [
        "#Création d'un \"filtre\" pour isoler les valeurs des voxels correspondant à du muscle\n",
        "filtre_muscle = segmented_images[\"j5_1_740nm-s\"] - 2*np.ones((12,512,512))\n",
        "filtre_muscle = np.abs(filtre_muscle)"
      ],
      "id": "QUDIfvO3QbXY",
      "execution_count": 72,
      "outputs": []
    },
    {
      "cell_type": "code",
      "metadata": {
        "id": "fXkEWtskRTfl"
      },
      "source": [
        "#Création d'un \"filtre\" pour isoler les valeurs des voxels correspondant à ce qui n'est pas du muscle\n",
        "filtre_autre = segmented_images[\"j5_1_740nm-s\"] - np.ones((12,512,512))\n",
        "filtre_autre = np.abs(filtre_autre)"
      ],
      "id": "fXkEWtskRTfl",
      "execution_count": 73,
      "outputs": []
    },
    {
      "cell_type": "markdown",
      "metadata": {
        "id": "9t4N2NLQGsaP"
      },
      "source": [
        "## 5. Spectres moyens des images"
      ],
      "id": "9t4N2NLQGsaP"
    },
    {
      "cell_type": "code",
      "metadata": {
        "id": "Sm7vj_AgRyKF"
      },
      "source": [
        "test = filtre_muscle*raw_images[\"j5_1_740nm\"][:,:,:,0]\n",
        "test2 = filtre_autre*raw_images[\"j5_1_740nm\"][:,:,:,0]"
      ],
      "id": "Sm7vj_AgRyKF",
      "execution_count": 116,
      "outputs": []
    },
    {
      "cell_type": "code",
      "metadata": {
        "colab": {
          "base_uri": "https://localhost:8080/"
        },
        "id": "696-nDUhaFso",
        "outputId": "c97b2c02-5071-489a-b56c-1ef908805f6b"
      },
      "source": [
        "print(np.sum(test)+np.sum(test2))\n",
        "print(np.sum(raw_images[\"j5_1_740nm\"][:,:,:,0]))"
      ],
      "id": "696-nDUhaFso",
      "execution_count": 120,
      "outputs": [
        {
          "output_type": "stream",
          "name": "stdout",
          "text": [
            "2038928942.0\n",
            "2038928942\n"
          ]
        }
      ]
    },
    {
      "cell_type": "code",
      "metadata": {
        "colab": {
          "base_uri": "https://localhost:8080/"
        },
        "id": "-C_LYvn1dA7-",
        "outputId": "ca516fa9-c550-4872-c177-b962d1c11fe6"
      },
      "source": [
        "unique, counts = np.unique(filtre_muscle, return_counts=True)\n",
        "dict(zip(unique, counts))\n",
        "print(counts[0])\n",
        "print(counts[1])"
      ],
      "id": "-C_LYvn1dA7-",
      "execution_count": 128,
      "outputs": [
        {
          "output_type": "stream",
          "name": "stdout",
          "text": [
            "2493321\n",
            "652407\n"
          ]
        }
      ]
    },
    {
      "cell_type": "code",
      "metadata": {
        "colab": {
          "base_uri": "https://localhost:8080/",
          "height": 245
        },
        "id": "kopqp_G9bwYk",
        "outputId": "059cc74a-1467-4b39-9a4f-a535bb53647d"
      },
      "source": [
        "unique, counts = np.unique(filtre_muscle, return_counts=True)\n",
        "h = filtre_muscle.count(0)\n",
        "f = 512*512*12\n",
        "print(g+h)\n",
        "print(f)"
      ],
      "id": "kopqp_G9bwYk",
      "execution_count": 121,
      "outputs": [
        {
          "output_type": "error",
          "ename": "AttributeError",
          "evalue": "ignored",
          "traceback": [
            "\u001b[0;31m---------------------------------------------------------------------------\u001b[0m",
            "\u001b[0;31mAttributeError\u001b[0m                            Traceback (most recent call last)",
            "\u001b[0;32m<ipython-input-121-c7ff991d13da>\u001b[0m in \u001b[0;36m<module>\u001b[0;34m()\u001b[0m\n\u001b[0;32m----> 1\u001b[0;31m \u001b[0mg\u001b[0m \u001b[0;34m=\u001b[0m \u001b[0mfiltre_muscle\u001b[0m\u001b[0;34m.\u001b[0m\u001b[0mcount\u001b[0m\u001b[0;34m(\u001b[0m\u001b[0;36m1\u001b[0m\u001b[0;34m)\u001b[0m\u001b[0;34m\u001b[0m\u001b[0;34m\u001b[0m\u001b[0m\n\u001b[0m\u001b[1;32m      2\u001b[0m \u001b[0mh\u001b[0m \u001b[0;34m=\u001b[0m \u001b[0mfiltre_muscle\u001b[0m\u001b[0;34m.\u001b[0m\u001b[0mcount\u001b[0m\u001b[0;34m(\u001b[0m\u001b[0;36m0\u001b[0m\u001b[0;34m)\u001b[0m\u001b[0;34m\u001b[0m\u001b[0;34m\u001b[0m\u001b[0m\n\u001b[1;32m      3\u001b[0m \u001b[0mf\u001b[0m \u001b[0;34m=\u001b[0m \u001b[0;36m512\u001b[0m\u001b[0;34m*\u001b[0m\u001b[0;36m512\u001b[0m\u001b[0;34m*\u001b[0m\u001b[0;36m12\u001b[0m\u001b[0;34m\u001b[0m\u001b[0;34m\u001b[0m\u001b[0m\n\u001b[1;32m      4\u001b[0m \u001b[0mprint\u001b[0m\u001b[0;34m(\u001b[0m\u001b[0mg\u001b[0m\u001b[0;34m+\u001b[0m\u001b[0mh\u001b[0m\u001b[0;34m)\u001b[0m\u001b[0;34m\u001b[0m\u001b[0;34m\u001b[0m\u001b[0m\n\u001b[1;32m      5\u001b[0m \u001b[0mprint\u001b[0m\u001b[0;34m(\u001b[0m\u001b[0mf\u001b[0m\u001b[0;34m)\u001b[0m\u001b[0;34m\u001b[0m\u001b[0;34m\u001b[0m\u001b[0m\n",
            "\u001b[0;31mAttributeError\u001b[0m: 'numpy.ndarray' object has no attribute 'count'"
          ]
        }
      ]
    },
    {
      "cell_type": "code",
      "metadata": {
        "id": "ksdGtLpVSuKZ"
      },
      "source": [
        "test = np.copy(raw_images[\"j5_1_740nm\"])"
      ],
      "id": "ksdGtLpVSuKZ",
      "execution_count": 101,
      "outputs": []
    },
    {
      "cell_type": "code",
      "metadata": {
        "colab": {
          "base_uri": "https://localhost:8080/"
        },
        "id": "34421BCNXm0z",
        "outputId": "da02897e-7f7f-4aab-c932-73cc3d7d8776"
      },
      "source": [
        "test[:][:][:][0].shape"
      ],
      "id": "34421BCNXm0z",
      "execution_count": 103,
      "outputs": [
        {
          "output_type": "execute_result",
          "data": {
            "text/plain": [
              "(512, 512, 32)"
            ]
          },
          "metadata": {},
          "execution_count": 103
        }
      ]
    },
    {
      "cell_type": "code",
      "metadata": {
        "colab": {
          "base_uri": "https://localhost:8080/"
        },
        "id": "opcAUPl0YQAq",
        "outputId": "4ae8797f-f80d-4e75-b034-859a368dbd7f"
      },
      "source": [
        "t = np.zeros((1,2,3))\n",
        "t[0][0][0] = 1\n",
        "t[0][1][0] = 2\n",
        "t"
      ],
      "id": "opcAUPl0YQAq",
      "execution_count": 110,
      "outputs": [
        {
          "output_type": "execute_result",
          "data": {
            "text/plain": [
              "array([[[1., 0., 0.],\n",
              "        [2., 0., 0.]]])"
            ]
          },
          "metadata": {},
          "execution_count": 110
        }
      ]
    },
    {
      "cell_type": "code",
      "metadata": {
        "colab": {
          "base_uri": "https://localhost:8080/"
        },
        "id": "u8mgBE0tYdAc",
        "outputId": "deaa8bf6-0552-40ff-86d5-a88a2b05209f"
      },
      "source": [
        "t2 = np.reshape(t, (2,3))\n",
        "t2[:,0]"
      ],
      "id": "u8mgBE0tYdAc",
      "execution_count": 111,
      "outputs": [
        {
          "output_type": "execute_result",
          "data": {
            "text/plain": [
              "array([1., 2.])"
            ]
          },
          "metadata": {},
          "execution_count": 111
        }
      ]
    },
    {
      "cell_type": "code",
      "metadata": {
        "colab": {
          "base_uri": "https://localhost:8080/"
        },
        "id": "_t8JlgEbTeia",
        "outputId": "50caf42e-1d95-487e-b0c6-8bec2d5f94d1"
      },
      "source": [
        "raw_images[\"j5_1_740nm\"][0].shape"
      ],
      "id": "_t8JlgEbTeia",
      "execution_count": 51,
      "outputs": [
        {
          "output_type": "execute_result",
          "data": {
            "text/plain": [
              "(512, 512, 32)"
            ]
          },
          "metadata": {},
          "execution_count": 51
        }
      ]
    },
    {
      "cell_type": "code",
      "metadata": {
        "colab": {
          "base_uri": "https://localhost:8080/"
        },
        "id": "pJofzDmfTiww",
        "outputId": "36a392e3-549a-4288-9682-270c6e5cb063"
      },
      "source": [
        "raw_images[\"j5_1_740nm\"][:,:,:,0].shape"
      ],
      "id": "pJofzDmfTiww",
      "execution_count": 112,
      "outputs": [
        {
          "output_type": "execute_result",
          "data": {
            "text/plain": [
              "(12, 512, 512)"
            ]
          },
          "metadata": {},
          "execution_count": 112
        }
      ]
    },
    {
      "cell_type": "code",
      "metadata": {
        "colab": {
          "base_uri": "https://localhost:8080/"
        },
        "id": "S28UFISiSL1w",
        "outputId": "30676526-7285-42d4-b876-87f7c72ee87c"
      },
      "source": [
        "filter = np.zeros((1,3,2,2))\n",
        "filter[0][0][0][0]=1\n",
        "filter[0][0][0][1]=1\n",
        "print(filter)\n",
        "filter2 = filter.reshape(3,2,2)\n",
        "print(filter2)\n",
        "print(filter.shape)\n",
        "print(filter2[0][:][:].shape)"
      ],
      "id": "S28UFISiSL1w",
      "execution_count": 98,
      "outputs": [
        {
          "output_type": "stream",
          "name": "stdout",
          "text": [
            "[[[[1. 1.]\n",
            "   [0. 0.]]\n",
            "\n",
            "  [[0. 0.]\n",
            "   [0. 0.]]\n",
            "\n",
            "  [[0. 0.]\n",
            "   [0. 0.]]]]\n",
            "[[[1. 1.]\n",
            "  [0. 0.]]\n",
            "\n",
            " [[0. 0.]\n",
            "  [0. 0.]]\n",
            "\n",
            " [[0. 0.]\n",
            "  [0. 0.]]]\n",
            "(1, 3, 2, 2)\n",
            "(2, 2)\n"
          ]
        }
      ]
    },
    {
      "cell_type": "code",
      "metadata": {
        "colab": {
          "base_uri": "https://localhost:8080/"
        },
        "id": "N7kPJ7eXPjVi",
        "outputId": "db1f307e-e0f8-4742-8112-80134f632527"
      },
      "source": [
        "t = np.ones((2,2,2,2))\n",
        "filter = np.zeros((1,2,2,2))\n",
        "filter[0][0][0]=1\n",
        "filter[0][0][1]=1\n",
        "print(t)\n",
        "print(filter)\n",
        "print(filter*t)"
      ],
      "id": "N7kPJ7eXPjVi",
      "execution_count": 22,
      "outputs": [
        {
          "output_type": "stream",
          "name": "stdout",
          "text": [
            "[[[[1. 1.]\n",
            "   [1. 1.]]\n",
            "\n",
            "  [[1. 1.]\n",
            "   [1. 1.]]]\n",
            "\n",
            "\n",
            " [[[1. 1.]\n",
            "   [1. 1.]]\n",
            "\n",
            "  [[1. 1.]\n",
            "   [1. 1.]]]]\n",
            "[[[1. 1.]\n",
            "  [0. 0.]]\n",
            "\n",
            " [[0. 0.]\n",
            "  [0. 0.]]]\n",
            "[[[[1. 1.]\n",
            "   [0. 0.]]\n",
            "\n",
            "  [[0. 0.]\n",
            "   [0. 0.]]]\n",
            "\n",
            "\n",
            " [[[1. 1.]\n",
            "   [0. 0.]]\n",
            "\n",
            "  [[0. 0.]\n",
            "   [0. 0.]]]]\n"
          ]
        }
      ]
    },
    {
      "cell_type": "code",
      "metadata": {
        "id": "tJkK9TZdNUY0"
      },
      "source": [
        "from tqdm import tqdm"
      ],
      "id": "tJkK9TZdNUY0",
      "execution_count": null,
      "outputs": []
    },
    {
      "cell_type": "code",
      "metadata": {
        "colab": {
          "base_uri": "https://localhost:8080/"
        },
        "id": "Hj7agtoGJZhb",
        "outputId": "8cc6c2df-ab65-43a5-e7e9-95fa20256235"
      },
      "source": [
        "print(dset.shape[2])"
      ],
      "id": "Hj7agtoGJZhb",
      "execution_count": null,
      "outputs": [
        {
          "output_type": "stream",
          "name": "stdout",
          "text": [
            "512\n"
          ]
        }
      ]
    },
    {
      "cell_type": "code",
      "metadata": {
        "id": "LmfjPFlPI2f-"
      },
      "source": [
        "MEAN_CHANNELS = np.zeros(32)"
      ],
      "id": "LmfjPFlPI2f-",
      "execution_count": null,
      "outputs": []
    },
    {
      "cell_type": "code",
      "metadata": {
        "id": "eMLVJSQiXcQN"
      },
      "source": [
        "def test(dset) :\n",
        "  if (dset[0][z][y][x][0]==1)\n",
        "#MEAN_CHANNELS[c] += dset[0][z][y][x][c]\n",
        "#def sqrt_func(i, j):\n",
        "    #time.sleep(1)\n",
        "    #return math.sqrt(i**j)\n",
        "\n",
        "#Parallel(n_jobs=2)(delayed(sqrt_func)(i, j) for i in range(5) for j in range(2))\n"
      ],
      "id": "eMLVJSQiXcQN",
      "execution_count": null,
      "outputs": []
    },
    {
      "cell_type": "code",
      "metadata": {
        "colab": {
          "base_uri": "https://localhost:8080/",
          "height": 557
        },
        "id": "9-w1tuafI-lG",
        "outputId": "cbbcc569-4961-4ece-c00a-c0ff2bfe01ed"
      },
      "source": [
        "\n",
        "for c in range(dset.shape[4]):\n",
        "  for z in range(dset.shape[1]):\n",
        "    for y in range(dset.shape[2]):\n",
        "      for x in range(dset.shape[3]):\n",
        "        if (dset2[0][z][y][x][0] == 1):\n",
        "          pass"
      ],
      "id": "9-w1tuafI-lG",
      "execution_count": null,
      "outputs": [
        {
          "output_type": "stream",
          "name": "stdout",
          "text": [
            "0\n"
          ]
        },
        {
          "output_type": "error",
          "ename": "KeyboardInterrupt",
          "evalue": "ignored",
          "traceback": [
            "\u001b[0;31m---------------------------------------------------------------------------\u001b[0m",
            "\u001b[0;31mTypeError\u001b[0m                                 Traceback (most recent call last)",
            "\u001b[0;32m/usr/local/lib/python3.7/dist-packages/h5py/_hl/dataset.py\u001b[0m in \u001b[0;36m__getitem__\u001b[0;34m(self, args, new_dtype)\u001b[0m\n\u001b[1;32m    706\u001b[0m             \u001b[0;32mtry\u001b[0m\u001b[0;34m:\u001b[0m\u001b[0;34m\u001b[0m\u001b[0;34m\u001b[0m\u001b[0m\n\u001b[0;32m--> 707\u001b[0;31m                 \u001b[0;32mreturn\u001b[0m \u001b[0mself\u001b[0m\u001b[0;34m.\u001b[0m\u001b[0m_fast_reader\u001b[0m\u001b[0;34m.\u001b[0m\u001b[0mread\u001b[0m\u001b[0;34m(\u001b[0m\u001b[0margs\u001b[0m\u001b[0;34m)\u001b[0m\u001b[0;34m\u001b[0m\u001b[0;34m\u001b[0m\u001b[0m\n\u001b[0m\u001b[1;32m    708\u001b[0m             \u001b[0;32mexcept\u001b[0m \u001b[0mTypeError\u001b[0m\u001b[0;34m:\u001b[0m\u001b[0;34m\u001b[0m\u001b[0;34m\u001b[0m\u001b[0m\n",
            "\u001b[0;32m/usr/local/lib/python3.7/dist-packages/h5py/_hl/dataset.py\u001b[0m in \u001b[0;36m_fast_reader\u001b[0;34m(self)\u001b[0m\n\u001b[1;32m    471\u001b[0m \u001b[0;34m\u001b[0m\u001b[0m\n\u001b[0;32m--> 472\u001b[0;31m         \u001b[0mrdr\u001b[0m \u001b[0;34m=\u001b[0m \u001b[0m_selector\u001b[0m\u001b[0;34m.\u001b[0m\u001b[0mReader\u001b[0m\u001b[0;34m(\u001b[0m\u001b[0mself\u001b[0m\u001b[0;34m.\u001b[0m\u001b[0mid\u001b[0m\u001b[0;34m)\u001b[0m\u001b[0;34m\u001b[0m\u001b[0;34m\u001b[0m\u001b[0m\n\u001b[0m\u001b[1;32m    473\u001b[0m \u001b[0;34m\u001b[0m\u001b[0m\n",
            "\u001b[0;32mh5py/_selector.pyx\u001b[0m in \u001b[0;36mh5py._selector.Reader.__cinit__\u001b[0;34m()\u001b[0m\n",
            "\u001b[0;31mTypeError\u001b[0m: an integer is required",
            "\nDuring handling of the above exception, another exception occurred:\n",
            "\u001b[0;31mKeyboardInterrupt\u001b[0m                         Traceback (most recent call last)",
            "\u001b[0;32m<ipython-input-93-343e88ea1838>\u001b[0m in \u001b[0;36m<module>\u001b[0;34m()\u001b[0m\n\u001b[1;32m      4\u001b[0m     \u001b[0;32mfor\u001b[0m \u001b[0my\u001b[0m \u001b[0;32min\u001b[0m \u001b[0mrange\u001b[0m\u001b[0;34m(\u001b[0m\u001b[0mdset\u001b[0m\u001b[0;34m.\u001b[0m\u001b[0mshape\u001b[0m\u001b[0;34m[\u001b[0m\u001b[0;36m2\u001b[0m\u001b[0;34m]\u001b[0m\u001b[0;34m)\u001b[0m\u001b[0;34m:\u001b[0m\u001b[0;34m\u001b[0m\u001b[0;34m\u001b[0m\u001b[0m\n\u001b[1;32m      5\u001b[0m       \u001b[0;32mfor\u001b[0m \u001b[0mx\u001b[0m \u001b[0;32min\u001b[0m \u001b[0mrange\u001b[0m\u001b[0;34m(\u001b[0m\u001b[0mdset\u001b[0m\u001b[0;34m.\u001b[0m\u001b[0mshape\u001b[0m\u001b[0;34m[\u001b[0m\u001b[0;36m3\u001b[0m\u001b[0;34m]\u001b[0m\u001b[0;34m)\u001b[0m\u001b[0;34m:\u001b[0m\u001b[0;34m\u001b[0m\u001b[0;34m\u001b[0m\u001b[0m\n\u001b[0;32m----> 6\u001b[0;31m         \u001b[0;32mif\u001b[0m \u001b[0;34m(\u001b[0m\u001b[0mdset2\u001b[0m\u001b[0;34m[\u001b[0m\u001b[0;36m0\u001b[0m\u001b[0;34m]\u001b[0m\u001b[0;34m[\u001b[0m\u001b[0mz\u001b[0m\u001b[0;34m]\u001b[0m\u001b[0;34m[\u001b[0m\u001b[0my\u001b[0m\u001b[0;34m]\u001b[0m\u001b[0;34m[\u001b[0m\u001b[0mx\u001b[0m\u001b[0;34m]\u001b[0m\u001b[0;34m[\u001b[0m\u001b[0;36m0\u001b[0m\u001b[0;34m]\u001b[0m \u001b[0;34m==\u001b[0m \u001b[0;36m1\u001b[0m\u001b[0;34m)\u001b[0m\u001b[0;34m:\u001b[0m\u001b[0;34m\u001b[0m\u001b[0;34m\u001b[0m\u001b[0m\n\u001b[0m\u001b[1;32m      7\u001b[0m           \u001b[0;32mpass\u001b[0m\u001b[0;34m\u001b[0m\u001b[0;34m\u001b[0m\u001b[0m\n",
            "\u001b[0;32mh5py/_objects.pyx\u001b[0m in \u001b[0;36mh5py._objects.with_phil.wrapper\u001b[0;34m()\u001b[0m\n",
            "\u001b[0;32mh5py/_objects.pyx\u001b[0m in \u001b[0;36mh5py._objects.with_phil.wrapper\u001b[0;34m()\u001b[0m\n",
            "\u001b[0;32m/usr/local/lib/python3.7/dist-packages/h5py/_hl/dataset.py\u001b[0m in \u001b[0;36m__getitem__\u001b[0;34m(self, args, new_dtype)\u001b[0m\n\u001b[1;32m    705\u001b[0m         \u001b[0;32mif\u001b[0m \u001b[0mself\u001b[0m\u001b[0;34m.\u001b[0m\u001b[0m_fast_read_ok\u001b[0m \u001b[0;32mand\u001b[0m \u001b[0;34m(\u001b[0m\u001b[0mnew_dtype\u001b[0m \u001b[0;32mis\u001b[0m \u001b[0;32mNone\u001b[0m\u001b[0;34m)\u001b[0m\u001b[0;34m:\u001b[0m\u001b[0;34m\u001b[0m\u001b[0;34m\u001b[0m\u001b[0m\n\u001b[1;32m    706\u001b[0m             \u001b[0;32mtry\u001b[0m\u001b[0;34m:\u001b[0m\u001b[0;34m\u001b[0m\u001b[0;34m\u001b[0m\u001b[0m\n\u001b[0;32m--> 707\u001b[0;31m                 \u001b[0;32mreturn\u001b[0m \u001b[0mself\u001b[0m\u001b[0;34m.\u001b[0m\u001b[0m_fast_reader\u001b[0m\u001b[0;34m.\u001b[0m\u001b[0mread\u001b[0m\u001b[0;34m(\u001b[0m\u001b[0margs\u001b[0m\u001b[0;34m)\u001b[0m\u001b[0;34m\u001b[0m\u001b[0;34m\u001b[0m\u001b[0m\n\u001b[0m\u001b[1;32m    708\u001b[0m             \u001b[0;32mexcept\u001b[0m \u001b[0mTypeError\u001b[0m\u001b[0;34m:\u001b[0m\u001b[0;34m\u001b[0m\u001b[0;34m\u001b[0m\u001b[0m\n\u001b[1;32m    709\u001b[0m                 \u001b[0;32mpass\u001b[0m  \u001b[0;31m# Fall back to Python read pathway below\u001b[0m\u001b[0;34m\u001b[0m\u001b[0;34m\u001b[0m\u001b[0m\n",
            "\u001b[0;31mKeyboardInterrupt\u001b[0m: "
          ]
        }
      ]
    },
    {
      "cell_type": "code",
      "metadata": {
        "colab": {
          "base_uri": "https://localhost:8080/"
        },
        "id": "BO4XTmMDIie_",
        "outputId": "1bda89d6-7e56-4718-9665-ee47d142fbcb"
      },
      "source": [
        "channels = np.arange(0,32,1)\n",
        "channels"
      ],
      "id": "BO4XTmMDIie_",
      "execution_count": null,
      "outputs": [
        {
          "output_type": "execute_result",
          "data": {
            "text/plain": [
              "array([ 0,  1,  2,  3,  4,  5,  6,  7,  8,  9, 10, 11, 12, 13, 14, 15, 16,\n",
              "       17, 18, 19, 20, 21, 22, 23, 24, 25, 26, 27, 28, 29, 30, 31])"
            ]
          },
          "metadata": {},
          "execution_count": 54
        }
      ]
    },
    {
      "cell_type": "code",
      "metadata": {
        "id": "db77312a"
      },
      "source": [
        "Muscle = pd.DataFrame(test, columns=[\"Channel number\", \"Mean channel value\"])"
      ],
      "id": "db77312a",
      "execution_count": null,
      "outputs": []
    },
    {
      "cell_type": "code",
      "metadata": {
        "id": "4a7c8e56"
      },
      "source": [
        "#if (dset2[0][z][y][x][0] == 1):\n",
        "#print(x)\n",
        "#MEAN_CHANNELS[c] += dset[0][z][y][x][c]"
      ],
      "id": "4a7c8e56",
      "execution_count": null,
      "outputs": []
    },
    {
      "cell_type": "markdown",
      "metadata": {
        "id": "Pate47tGGDX4"
      },
      "source": [
        "## Test dataframe"
      ],
      "id": "Pate47tGGDX4"
    },
    {
      "cell_type": "code",
      "metadata": {
        "id": "9eb3b50f"
      },
      "source": [
        "import pandas as pd"
      ],
      "id": "9eb3b50f",
      "execution_count": null,
      "outputs": []
    },
    {
      "cell_type": "code",
      "metadata": {
        "id": "182541a8",
        "colab": {
          "base_uri": "https://localhost:8080/",
          "height": 314
        },
        "outputId": "687e0583-4988-4dd5-d53f-6330a6663685"
      },
      "source": [
        "df = pd.DataFrame(dset)"
      ],
      "id": "182541a8",
      "execution_count": null,
      "outputs": [
        {
          "output_type": "error",
          "ename": "ValueError",
          "evalue": "ignored",
          "traceback": [
            "\u001b[0;31m---------------------------------------------------------------------------\u001b[0m",
            "\u001b[0;31mValueError\u001b[0m                                Traceback (most recent call last)",
            "\u001b[0;32m<ipython-input-48-bf27bae023bb>\u001b[0m in \u001b[0;36m<module>\u001b[0;34m()\u001b[0m\n\u001b[0;32m----> 1\u001b[0;31m \u001b[0mdf\u001b[0m \u001b[0;34m=\u001b[0m \u001b[0mpd\u001b[0m\u001b[0;34m.\u001b[0m\u001b[0mDataFrame\u001b[0m\u001b[0;34m(\u001b[0m\u001b[0mdset\u001b[0m\u001b[0;34m)\u001b[0m\u001b[0;34m\u001b[0m\u001b[0;34m\u001b[0m\u001b[0m\n\u001b[0m",
            "\u001b[0;32m/usr/local/lib/python3.7/dist-packages/pandas/core/frame.py\u001b[0m in \u001b[0;36m__init__\u001b[0;34m(self, data, index, columns, dtype, copy)\u001b[0m\n\u001b[1;32m    521\u001b[0m                     \u001b[0mmgr\u001b[0m \u001b[0;34m=\u001b[0m \u001b[0marrays_to_mgr\u001b[0m\u001b[0;34m(\u001b[0m\u001b[0marrays\u001b[0m\u001b[0;34m,\u001b[0m \u001b[0mcolumns\u001b[0m\u001b[0;34m,\u001b[0m \u001b[0mindex\u001b[0m\u001b[0;34m,\u001b[0m \u001b[0mcolumns\u001b[0m\u001b[0;34m,\u001b[0m \u001b[0mdtype\u001b[0m\u001b[0;34m=\u001b[0m\u001b[0mdtype\u001b[0m\u001b[0;34m)\u001b[0m\u001b[0;34m\u001b[0m\u001b[0;34m\u001b[0m\u001b[0m\n\u001b[1;32m    522\u001b[0m                 \u001b[0;32melse\u001b[0m\u001b[0;34m:\u001b[0m\u001b[0;34m\u001b[0m\u001b[0;34m\u001b[0m\u001b[0m\n\u001b[0;32m--> 523\u001b[0;31m                     \u001b[0mmgr\u001b[0m \u001b[0;34m=\u001b[0m \u001b[0minit_ndarray\u001b[0m\u001b[0;34m(\u001b[0m\u001b[0mdata\u001b[0m\u001b[0;34m,\u001b[0m \u001b[0mindex\u001b[0m\u001b[0;34m,\u001b[0m \u001b[0mcolumns\u001b[0m\u001b[0;34m,\u001b[0m \u001b[0mdtype\u001b[0m\u001b[0;34m=\u001b[0m\u001b[0mdtype\u001b[0m\u001b[0;34m,\u001b[0m \u001b[0mcopy\u001b[0m\u001b[0;34m=\u001b[0m\u001b[0mcopy\u001b[0m\u001b[0;34m)\u001b[0m\u001b[0;34m\u001b[0m\u001b[0;34m\u001b[0m\u001b[0m\n\u001b[0m\u001b[1;32m    524\u001b[0m             \u001b[0;32melse\u001b[0m\u001b[0;34m:\u001b[0m\u001b[0;34m\u001b[0m\u001b[0;34m\u001b[0m\u001b[0m\n\u001b[1;32m    525\u001b[0m                 \u001b[0mmgr\u001b[0m \u001b[0;34m=\u001b[0m \u001b[0minit_dict\u001b[0m\u001b[0;34m(\u001b[0m\u001b[0;34m{\u001b[0m\u001b[0;34m}\u001b[0m\u001b[0;34m,\u001b[0m \u001b[0mindex\u001b[0m\u001b[0;34m,\u001b[0m \u001b[0mcolumns\u001b[0m\u001b[0;34m,\u001b[0m \u001b[0mdtype\u001b[0m\u001b[0;34m=\u001b[0m\u001b[0mdtype\u001b[0m\u001b[0;34m)\u001b[0m\u001b[0;34m\u001b[0m\u001b[0;34m\u001b[0m\u001b[0m\n",
            "\u001b[0;32m/usr/local/lib/python3.7/dist-packages/pandas/core/internals/construction.py\u001b[0m in \u001b[0;36minit_ndarray\u001b[0;34m(values, index, columns, dtype, copy)\u001b[0m\n\u001b[1;32m    188\u001b[0m     \u001b[0;31m# by definition an array here\u001b[0m\u001b[0;34m\u001b[0m\u001b[0;34m\u001b[0m\u001b[0;34m\u001b[0m\u001b[0m\n\u001b[1;32m    189\u001b[0m     \u001b[0;31m# the dtypes will be coerced to a single dtype\u001b[0m\u001b[0;34m\u001b[0m\u001b[0;34m\u001b[0m\u001b[0;34m\u001b[0m\u001b[0m\n\u001b[0;32m--> 190\u001b[0;31m     \u001b[0mvalues\u001b[0m \u001b[0;34m=\u001b[0m \u001b[0m_prep_ndarray\u001b[0m\u001b[0;34m(\u001b[0m\u001b[0mvalues\u001b[0m\u001b[0;34m,\u001b[0m \u001b[0mcopy\u001b[0m\u001b[0;34m=\u001b[0m\u001b[0mcopy\u001b[0m\u001b[0;34m)\u001b[0m\u001b[0;34m\u001b[0m\u001b[0;34m\u001b[0m\u001b[0m\n\u001b[0m\u001b[1;32m    191\u001b[0m \u001b[0;34m\u001b[0m\u001b[0m\n\u001b[1;32m    192\u001b[0m     \u001b[0;32mif\u001b[0m \u001b[0mdtype\u001b[0m \u001b[0;32mis\u001b[0m \u001b[0;32mnot\u001b[0m \u001b[0;32mNone\u001b[0m\u001b[0;34m:\u001b[0m\u001b[0;34m\u001b[0m\u001b[0;34m\u001b[0m\u001b[0m\n",
            "\u001b[0;32m/usr/local/lib/python3.7/dist-packages/pandas/core/internals/construction.py\u001b[0m in \u001b[0;36m_prep_ndarray\u001b[0;34m(values, copy)\u001b[0m\n\u001b[1;32m    322\u001b[0m         \u001b[0mvalues\u001b[0m \u001b[0;34m=\u001b[0m \u001b[0mvalues\u001b[0m\u001b[0;34m.\u001b[0m\u001b[0mreshape\u001b[0m\u001b[0;34m(\u001b[0m\u001b[0;34m(\u001b[0m\u001b[0mvalues\u001b[0m\u001b[0;34m.\u001b[0m\u001b[0mshape\u001b[0m\u001b[0;34m[\u001b[0m\u001b[0;36m0\u001b[0m\u001b[0;34m]\u001b[0m\u001b[0;34m,\u001b[0m \u001b[0;36m1\u001b[0m\u001b[0;34m)\u001b[0m\u001b[0;34m)\u001b[0m\u001b[0;34m\u001b[0m\u001b[0;34m\u001b[0m\u001b[0m\n\u001b[1;32m    323\u001b[0m     \u001b[0;32melif\u001b[0m \u001b[0mvalues\u001b[0m\u001b[0;34m.\u001b[0m\u001b[0mndim\u001b[0m \u001b[0;34m!=\u001b[0m \u001b[0;36m2\u001b[0m\u001b[0;34m:\u001b[0m\u001b[0;34m\u001b[0m\u001b[0;34m\u001b[0m\u001b[0m\n\u001b[0;32m--> 324\u001b[0;31m         \u001b[0;32mraise\u001b[0m \u001b[0mValueError\u001b[0m\u001b[0;34m(\u001b[0m\u001b[0;34mf\"Must pass 2-d input. shape={values.shape}\"\u001b[0m\u001b[0;34m)\u001b[0m\u001b[0;34m\u001b[0m\u001b[0;34m\u001b[0m\u001b[0m\n\u001b[0m\u001b[1;32m    325\u001b[0m \u001b[0;34m\u001b[0m\u001b[0m\n\u001b[1;32m    326\u001b[0m     \u001b[0;32mreturn\u001b[0m \u001b[0mvalues\u001b[0m\u001b[0;34m\u001b[0m\u001b[0;34m\u001b[0m\u001b[0m\n",
            "\u001b[0;31mValueError\u001b[0m: Must pass 2-d input. shape=(1, 12, 512, 512, 32)"
          ]
        }
      ]
    },
    {
      "cell_type": "code",
      "metadata": {
        "id": "d1c046e5",
        "colab": {
          "base_uri": "https://localhost:8080/"
        },
        "outputId": "8bb2f529-8f64-4295-d78a-fc45f686b568"
      },
      "source": [
        "t = np.ones((3,3,3))\n",
        "filter = np.zeros((1,3,3,1))\n",
        "filter[0][0][0][0]=1\n",
        "filter[0][0][1][0]=4\n",
        "filter[0][2][0][0]=1\n",
        "filter2 = np.reshape(filter, (3,3))\n",
        "print(t)\n",
        "print(filter)\n",
        "print(filter2)\n",
        "print(filter[0][0][1][0])\n",
        "print(filter2[0][1])"
      ],
      "id": "d1c046e5",
      "execution_count": null,
      "outputs": [
        {
          "output_type": "stream",
          "name": "stdout",
          "text": [
            "[[[1. 1. 1.]\n",
            "  [1. 1. 1.]\n",
            "  [1. 1. 1.]]\n",
            "\n",
            " [[1. 1. 1.]\n",
            "  [1. 1. 1.]\n",
            "  [1. 1. 1.]]\n",
            "\n",
            " [[1. 1. 1.]\n",
            "  [1. 1. 1.]\n",
            "  [1. 1. 1.]]]\n",
            "[[[[1.]\n",
            "   [4.]\n",
            "   [0.]]\n",
            "\n",
            "  [[0.]\n",
            "   [0.]\n",
            "   [0.]]\n",
            "\n",
            "  [[1.]\n",
            "   [0.]\n",
            "   [0.]]]]\n",
            "[[1. 4. 0.]\n",
            " [0. 0. 0.]\n",
            " [1. 0. 0.]]\n",
            "4.0\n",
            "4.0\n"
          ]
        }
      ]
    },
    {
      "cell_type": "code",
      "metadata": {
        "id": "483e7738"
      },
      "source": [
        "T = [[-1,0],[-2,1]]"
      ],
      "id": "483e7738",
      "execution_count": null,
      "outputs": []
    },
    {
      "cell_type": "code",
      "metadata": {
        "id": "c40510a4"
      },
      "source": [
        "absT = np.abs(T)"
      ],
      "id": "c40510a4",
      "execution_count": null,
      "outputs": []
    },
    {
      "cell_type": "code",
      "metadata": {
        "colab": {
          "base_uri": "https://localhost:8080/"
        },
        "id": "5M4m3DDgKvHR",
        "outputId": "23860a9f-1a47-4055-ce9d-cee2facc177d"
      },
      "source": [
        "print(T)\n",
        "print(absT)"
      ],
      "id": "5M4m3DDgKvHR",
      "execution_count": null,
      "outputs": [
        {
          "output_type": "stream",
          "name": "stdout",
          "text": [
            "[[-1, 0], [-2, 1]]\n",
            "[[1 0]\n",
            " [2 1]]\n"
          ]
        }
      ]
    },
    {
      "cell_type": "code",
      "metadata": {
        "id": "1icea5TtFhEu"
      },
      "source": [
        "A = [[1,2],[3,4]]\n",
        "B = [[1,0],[0,1]]\n",
        "C = np.multiply(A,B)"
      ],
      "id": "1icea5TtFhEu",
      "execution_count": null,
      "outputs": []
    },
    {
      "cell_type": "code",
      "metadata": {
        "colab": {
          "base_uri": "https://localhost:8080/"
        },
        "id": "8TPRNsIxFhNC",
        "outputId": "59ed4113-d308-4d86-e97b-f8f2f42a34df"
      },
      "source": [
        "print(C)"
      ],
      "id": "8TPRNsIxFhNC",
      "execution_count": null,
      "outputs": [
        {
          "output_type": "stream",
          "name": "stdout",
          "text": [
            "[[1 0]\n",
            " [0 4]]\n"
          ]
        }
      ]
    }
  ]
}