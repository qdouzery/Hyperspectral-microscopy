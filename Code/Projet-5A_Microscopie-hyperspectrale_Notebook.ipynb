{
 "cells": [
  {
   "cell_type": "markdown",
   "id": "4c72c603",
   "metadata": {},
   "source": [
    "# Microscopie hyperspectrale"
   ]
  },
  {
   "cell_type": "markdown",
   "id": "2d25ddd5",
   "metadata": {},
   "source": [
    "Quentin Douzery  \n",
    "Alexia Ghozland"
   ]
  },
  {
   "cell_type": "markdown",
   "id": "77dd8ea1",
   "metadata": {},
   "source": [
    "## 1. Imports"
   ]
  },
  {
   "cell_type": "markdown",
   "id": "453bbb44",
   "metadata": {},
   "source": [
    "### 1.1. Packages"
   ]
  },
  {
   "cell_type": "code",
   "execution_count": 14,
   "id": "99206fc6",
   "metadata": {},
   "outputs": [],
   "source": [
    "import h5py\n",
    "import numpy as np"
   ]
  },
  {
   "cell_type": "markdown",
   "id": "0f6b3da5",
   "metadata": {},
   "source": [
    "### 1.2. Images"
   ]
  },
  {
   "cell_type": "code",
   "execution_count": 47,
   "id": "e4fbb5aa",
   "metadata": {},
   "outputs": [],
   "source": [
    "#Dictionnaire qui contient les fichiers des images originales\n",
    "raw_images_names = {\"j5_1_740nm\":\"/home/douzery/Bureau/Test-hdf5/j5_1_740nm.h5\"}"
   ]
  },
  {
   "cell_type": "code",
   "execution_count": 48,
   "id": "a0de5ad0",
   "metadata": {},
   "outputs": [],
   "source": [
    "#Dictionnaire qui contient les fichiers des images après segmentation\n",
    "segmented_images_names = {\"j5_1_740nm-s\":\"/home/douzery/Bureau/Test-hdf5/j5_1_740nm-segmented.h5\"}"
   ]
  },
  {
   "cell_type": "code",
   "execution_count": 49,
   "id": "3b58ba11",
   "metadata": {},
   "outputs": [],
   "source": [
    "raw_images = {}\n",
    "for name, path in raw_images_names.items():\n",
    "    raw_images[name] = h5py.File(path, 'r')"
   ]
  },
  {
   "cell_type": "code",
   "execution_count": 55,
   "id": "29cd8e41",
   "metadata": {},
   "outputs": [],
   "source": [
    "dset = raw_images[\"j5_1_740nm\"]['data']"
   ]
  },
  {
   "cell_type": "code",
   "execution_count": 56,
   "id": "792d70f3",
   "metadata": {},
   "outputs": [
    {
     "name": "stdout",
     "output_type": "stream",
     "text": [
      "Dimensions de l'image originale (t, z, y, x, c) : (1, 12, 512, 512, 32)\n"
     ]
    }
   ],
   "source": [
    "print(\"Dimensions de l'image originale (t, z, y, x, c) :\", dset.shape)"
   ]
  },
  {
   "cell_type": "markdown",
   "id": "f13e5068",
   "metadata": {},
   "source": [
    "## 2. Caractéristiques des images"
   ]
  },
  {
   "cell_type": "code",
   "execution_count": 20,
   "id": "f1a232cb",
   "metadata": {},
   "outputs": [],
   "source": [
    "f = h5py.File(filename, 'r')\n",
    "f2 = h5py.File(filename2, 'r')"
   ]
  },
  {
   "cell_type": "code",
   "execution_count": 22,
   "id": "d9380a9a",
   "metadata": {},
   "outputs": [
    {
     "data": {
      "text/plain": [
       "['__DATA_TYPES__', 'data']"
      ]
     },
     "execution_count": 22,
     "metadata": {},
     "output_type": "execute_result"
    }
   ],
   "source": [
    "list(f.keys())"
   ]
  },
  {
   "cell_type": "code",
   "execution_count": 23,
   "id": "9bf72cf5",
   "metadata": {},
   "outputs": [
    {
     "data": {
      "text/plain": [
       "['exported_data']"
      ]
     },
     "execution_count": 23,
     "metadata": {},
     "output_type": "execute_result"
    }
   ],
   "source": [
    "list(f2.keys())"
   ]
  },
  {
   "cell_type": "code",
   "execution_count": 24,
   "id": "2ec755e1",
   "metadata": {},
   "outputs": [],
   "source": [
    "dset = f['data']\n",
    "dset2 = f2['exported_data']"
   ]
  },
  {
   "cell_type": "code",
   "execution_count": 38,
   "id": "e324daa0",
   "metadata": {},
   "outputs": [
    {
     "name": "stdout",
     "output_type": "stream",
     "text": [
      "Dimensions de l'image originale (t, z, y, x, c) : (1, 12, 512, 512, 32)\n",
      "Dimensions de l'image segmentée (t, z, y, x, m) : (1, 12, 512, 512, 1)\n"
     ]
    }
   ],
   "source": [
    "print(\"Dimensions de l'image originale (t, z, y, x, c) :\", dset.shape)\n",
    "print(\"Dimensions de l'image segmentée (t, z, y, x, m) :\", dset2.shape)"
   ]
  },
  {
   "cell_type": "code",
   "execution_count": 26,
   "id": "8b5be377",
   "metadata": {},
   "outputs": [
    {
     "name": "stdout",
     "output_type": "stream",
     "text": [
      "uint16\n",
      "uint8\n"
     ]
    }
   ],
   "source": [
    "print(dset.dtype)\n",
    "print(dset2.dtype)"
   ]
  },
  {
   "cell_type": "code",
   "execution_count": 19,
   "id": "e8092b8f",
   "metadata": {},
   "outputs": [
    {
     "data": {
      "text/plain": [
       "array([173, 236, 207, 191,  34, 160,  45, 193, 187, 247,  64,  93, 312,\n",
       "        84, 264, 204, 140, 224, 125, 180,  95, 146, 130, 183, 179, 120,\n",
       "         2, 119, 261, 158, 177, 119], dtype=uint16)"
      ]
     },
     "execution_count": 19,
     "metadata": {},
     "output_type": "execute_result"
    }
   ],
   "source": [
    "dset[0][0][0][0][:]"
   ]
  },
  {
   "cell_type": "code",
   "execution_count": 39,
   "id": "5bfed0fa",
   "metadata": {},
   "outputs": [
    {
     "data": {
      "text/plain": [
       "2"
      ]
     },
     "execution_count": 39,
     "metadata": {},
     "output_type": "execute_result"
    }
   ],
   "source": [
    "dset2[0][0][250][250][0]"
   ]
  },
  {
   "cell_type": "code",
   "execution_count": null,
   "id": "db77312a",
   "metadata": {},
   "outputs": [],
   "source": []
  },
  {
   "cell_type": "code",
   "execution_count": null,
   "id": "4a7c8e56",
   "metadata": {},
   "outputs": [],
   "source": []
  },
  {
   "cell_type": "code",
   "execution_count": null,
   "id": "9eb3b50f",
   "metadata": {},
   "outputs": [],
   "source": []
  },
  {
   "cell_type": "code",
   "execution_count": null,
   "id": "182541a8",
   "metadata": {},
   "outputs": [],
   "source": []
  },
  {
   "cell_type": "code",
   "execution_count": null,
   "id": "d1c046e5",
   "metadata": {},
   "outputs": [],
   "source": []
  },
  {
   "cell_type": "code",
   "execution_count": null,
   "id": "483e7738",
   "metadata": {},
   "outputs": [],
   "source": []
  },
  {
   "cell_type": "code",
   "execution_count": null,
   "id": "c40510a4",
   "metadata": {},
   "outputs": [],
   "source": []
  }
 ],
 "metadata": {
  "kernelspec": {
   "display_name": "Python 3",
   "language": "python",
   "name": "python3"
  },
  "language_info": {
   "codemirror_mode": {
    "name": "ipython",
    "version": 3
   },
   "file_extension": ".py",
   "mimetype": "text/x-python",
   "name": "python",
   "nbconvert_exporter": "python",
   "pygments_lexer": "ipython3",
   "version": "3.8.10"
  }
 },
 "nbformat": 4,
 "nbformat_minor": 5
}
