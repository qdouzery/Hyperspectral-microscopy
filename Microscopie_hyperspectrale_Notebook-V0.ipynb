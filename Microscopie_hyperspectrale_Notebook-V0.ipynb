{
  "nbformat": 4,
  "nbformat_minor": 5,
  "metadata": {
    "kernelspec": {
      "display_name": "Python 3",
      "language": "python",
      "name": "python3"
    },
    "language_info": {
      "codemirror_mode": {
        "name": "ipython",
        "version": 3
      },
      "file_extension": ".py",
      "mimetype": "text/x-python",
      "name": "python",
      "nbconvert_exporter": "python",
      "pygments_lexer": "ipython3",
      "version": "3.8.10"
    },
    "colab": {
      "name": "Microscopie-hyperspectrale_Notebook-V0.ipynb",
      "provenance": []
    }
  },
  "cells": [
    {
      "cell_type": "markdown",
      "metadata": {
        "id": "4c72c603"
      },
      "source": [
        "# Microscopie hyperspectrale"
      ],
      "id": "4c72c603"
    },
    {
      "cell_type": "markdown",
      "metadata": {
        "id": "2d25ddd5"
      },
      "source": [
        "Quentin Douzery  \n",
        "Alexia Ghozland"
      ],
      "id": "2d25ddd5"
    },
    {
      "cell_type": "markdown",
      "metadata": {
        "id": "77dd8ea1"
      },
      "source": [
        "## 1. Imports"
      ],
      "id": "77dd8ea1"
    },
    {
      "cell_type": "markdown",
      "metadata": {
        "id": "453bbb44"
      },
      "source": [
        "### 1.1. Packages"
      ],
      "id": "453bbb44"
    },
    {
      "cell_type": "code",
      "metadata": {
        "id": "99206fc6"
      },
      "source": [
        "from matplotlib import pyplot as plt\n",
        "from joblib import Parallel, delayed\n",
        "from tqdm import tqdm\n",
        "import h5py\n",
        "import numpy as np\n",
        "import os\n",
        "import math\n",
        "import pandas as pd"
      ],
      "id": "99206fc6",
      "execution_count": 29,
      "outputs": []
    },
    {
      "cell_type": "code",
      "metadata": {
        "id": "wP16q3rS8yCx",
        "colab": {
          "base_uri": "https://localhost:8080/"
        },
        "outputId": "db908549-6240-454c-ebd3-6187a471b6ab"
      },
      "source": [
        "from google.colab import drive\n",
        "drive.mount('/content/gdrive')"
      ],
      "id": "wP16q3rS8yCx",
      "execution_count": 30,
      "outputs": [
        {
          "output_type": "stream",
          "name": "stdout",
          "text": [
            "Drive already mounted at /content/gdrive; to attempt to forcibly remount, call drive.mount(\"/content/gdrive\", force_remount=True).\n"
          ]
        }
      ]
    },
    {
      "cell_type": "markdown",
      "metadata": {
        "id": "0f6b3da5"
      },
      "source": [
        "### 1.2. Images"
      ],
      "id": "0f6b3da5"
    },
    {
      "cell_type": "code",
      "metadata": {
        "id": "e4fbb5aa"
      },
      "source": [
        "#Dictionnaire qui contient les fichiers des images originales\n",
        "#path_dir = \"/content/gdrive/My Drive/Hyperspectral\" #drive directory\n",
        "path_dir = \"/content/gdrive/My Drive/Hyperspectral/Images-hyperspectrales\"\n",
        "#path_dir = \"/home/douzery/Bureau\" #local directory\n",
        "\n",
        "raw_images_names = {\"j5_1_740nm\":os.path.join(path_dir, \"j5-740nm/hdf5-images/j5_1_740nm.h5\"),\n",
        "                    \"j5_2_740nm\":os.path.join(path_dir, \"j5-740nm/hdf5-images/j5_2_740nm.h5\"),\n",
        "                    #\"j5_3_740nm\":os.path.join(path_dir, \"j5-740nm/hdf5-images/j5_3_740nm.h5\"),\n",
        "                    #\"j5_4_740nm\":os.path.join(path_dir, \"j5-740nm/hdf5-images/j5_4_740nm.h5\"),\n",
        "                    \"j5_1_780nm\":os.path.join(path_dir, \"j5-780nm/hdf5-images/j5_1_780nm.h5\"),\n",
        "                    \"j5_2_780nm\":os.path.join(path_dir, \"j5-780nm/hdf5-images/j5_2_780nm.h5\"),\n",
        "                    \"j5_3_780nm\":os.path.join(path_dir, \"j5-780nm/hdf5-images/j5_3_780nm.h5\"),\n",
        "                    \"j5_4_780nm\":os.path.join(path_dir, \"j5-780nm/hdf5-images/j5_4_780nm.h5\"),\n",
        "                    \"j5_1_820nm\":os.path.join(path_dir, \"j5-820nm/hdf5-images/j5_1_820nm.h5\"),\n",
        "                    \"j5_2_820nm\":os.path.join(path_dir, \"j5-820nm/hdf5-images/j5_2_820nm.h5\"),\n",
        "                    \"j5_3_820nm\":os.path.join(path_dir, \"j5-820nm/hdf5-images/j5_3_820nm.h5\"),\n",
        "                    \"j5_4_820nm\":os.path.join(path_dir, \"j5-820nm/hdf5-images/j5_4_820nm.h5\"),\n",
        "                    \"v2_1_740nm\":os.path.join(path_dir, \"v2-740nm/hdf5-images/v2_1_740nm.h5\"),\n",
        "                    \"v2_2_740nm\":os.path.join(path_dir, \"v2-740nm/hdf5-images/v2_2_740nm.h5\"),\n",
        "                    \"v2_3_740nm\":os.path.join(path_dir, \"v2-740nm/hdf5-images/v2_3_740nm.h5\"),\n",
        "                    \"v2_4_740nm\":os.path.join(path_dir, \"v2-740nm/hdf5-images/v2_4_740nm.h5\"),\n",
        "                    \"v6_3_740nm\":os.path.join(path_dir, \"v6-740nm/hdf5-images/v6_3_740nm.h5\"),\n",
        "                    \"v6_4_740nm\":os.path.join(path_dir, \"v6-740nm/hdf5-images/v6_4_740nm.h5\"),\n",
        "                    \"v6_5_740nm\":os.path.join(path_dir, \"v6-740nm/hdf5-images/v6_5_740nm.h5\"),\n",
        "                    \"v6_6_740nm\":os.path.join(path_dir, \"v6-740nm/hdf5-images/v6_6_740nm.h5\"),\n",
        "                    \"v6_3_780nm\":os.path.join(path_dir, \"v6-780nm/hdf5-images/v6_3_780nm.h5\"),\n",
        "                    \"v6_4_780nm\":os.path.join(path_dir, \"v6-780nm/hdf5-images/v6_4_780nm.h5\"),\n",
        "                    \"v6_5_780nm\":os.path.join(path_dir, \"v6-780nm/hdf5-images/v6_5_780nm.h5\"),\n",
        "                    \"v6_6_780nm\":os.path.join(path_dir, \"v6-780nm/hdf5-images/v6_6_780nm.h5\"),\n",
        "                    \"v6_3_820nm\":os.path.join(path_dir, \"v6-820nm/hdf5-images/v6_3_820nm.h5\"),\n",
        "                    \"v6_4_820nm\":os.path.join(path_dir, \"v6-820nm/hdf5-images/v6_4_820nm.h5\"),\n",
        "                    \"v6_5_820nm\":os.path.join(path_dir, \"v6-820nm/hdf5-images/v6_5_820nm.h5\"),\n",
        "                    \"v6_6_820nm\":os.path.join(path_dir, \"v6-820nm/hdf5-images/v6_6_820nm.h5\")}"
      ],
      "id": "e4fbb5aa",
      "execution_count": 43,
      "outputs": []
    },
    {
      "cell_type": "code",
      "metadata": {
        "colab": {
          "base_uri": "https://localhost:8080/"
        },
        "id": "FWg-Cli5wmcZ",
        "outputId": "f2c63a5c-07aa-4ca9-8375-3b49ba52db8f"
      },
      "source": [
        "fname = os.path.join(path_dir, \"j5-820nm/segmented-images/j5_1_820nm_Simple-Segmentation.h5\")\n",
        "f = h5py.File(fname, 'r')\n",
        "f['exported_data']"
      ],
      "id": "FWg-Cli5wmcZ",
      "execution_count": 61,
      "outputs": [
        {
          "output_type": "execute_result",
          "data": {
            "text/plain": [
              "<HDF5 dataset \"exported_data\": shape (1, 27, 512, 512, 1), type \"|u1\">"
            ]
          },
          "metadata": {},
          "execution_count": 61
        }
      ]
    },
    {
      "cell_type": "code",
      "metadata": {
        "id": "a0de5ad0"
      },
      "source": [
        "#Dictionnaire qui contient les fichiers des images après segmentation\n",
        "#segmented_images_names = {\"j5_1_740nm-s\":os.path.join(path_dir, \"Test-hdf5/j5_1_740nm-segmented.h5\")}\n",
        "segmented_images_names = {\"j5_1_740nm-s\":os.path.join(path_dir, \"j5-740nm/segmented-images/j5_1_740nm_Simple-Segmentation.h5\"),\n",
        "                          \"j5_2_740nm-s\":os.path.join(path_dir, \"j5-740nm/segmented-images/j5_2_740nm_Simple-Segmentation.h5\"),\n",
        "                          #\"j5_3_740nm-s\":os.path.join(path_dir, \"j5-740nm/segmented-images/j5_3_740nm_Simple-Segmentation.h5\"),\n",
        "                          #\"j5_4_740nm-s\":os.path.join(path_dir, \"j5-740nm/segmented-images/j5_4_740nm_Simple-Segmentation.h5\"),\n",
        "                          \"j5_1_780nm-s\":os.path.join(path_dir, \"j5-780nm/segmented-images/j5_1_780nm_Simple-Segmentation.h5\"),\n",
        "                          \"j5_2_780nm-s\":os.path.join(path_dir, \"j5-780nm/segmented-images/j5_2_780nm_Simple-Segmentation.h5\"),\n",
        "                          \"j5_3_780nm-s\":os.path.join(path_dir, \"j5-780nm/segmented-images/j5_3_780nm_Simple-Segmentation.h5\"),\n",
        "                          \"j5_4_780nm-s\":os.path.join(path_dir, \"j5-780nm/segmented-images/j5_4_780nm_Simple-Segmentation.h5\"),\n",
        "                          \"j5_1_820nm-s\":os.path.join(path_dir, \"j5-820nm/segmented-images/j5_1_820nm_Simple-Segmentation.h5\"),\n",
        "                          \"j5_2_820nm-s\":os.path.join(path_dir, \"j5-820nm/segmented-images/j5_2_820nm_Simple-Segmentation.h5\"),\n",
        "                          \"j5_3_820nm-s\":os.path.join(path_dir, \"j5-820nm/segmented-images/j5_3_820nm_Simple-Segmentation.h5\"),\n",
        "                          \"j5_4_820nm-s\":os.path.join(path_dir, \"j5-820nm/segmented-images/j5_4_820nm_Simple-Segmentation.h5\"),\n",
        "                          \"v2_1_740nm-s\":os.path.join(path_dir, \"v2-740nm/segmented-images/v2_1_740nm_Simple-Segmentation.h5\"),\n",
        "                          \"v2_2_740nm-s\":os.path.join(path_dir, \"v2-740nm/segmented-images/v2_2_740nm_Simple-Segmentation.h5\"),\n",
        "                          \"v2_3_740nm-s\":os.path.join(path_dir, \"v2-740nm/segmented-images/v2_3_740nm_Simple-Segmentation.h5\"),\n",
        "                          \"v2_4_740nm-s\":os.path.join(path_dir, \"v2-740nm/segmented-images/v2_4_740nm_Simple-Segmentation.h5\"),\n",
        "                          \"v6_3_740nm-s\":os.path.join(path_dir, \"v6-740nm/segmented-images/v6_3_740nm_Simple-Segmentation.h5\"),\n",
        "                          \"v6_4_740nm-s\":os.path.join(path_dir, \"v6-740nm/segmented-images/v6_4_740nm_Simple-Segmentation.h5\"),\n",
        "                          \"v6_5_740nm-s\":os.path.join(path_dir, \"v6-740nm/segmented-images/v6_5_740nm_Simple-Segmentation.h5\"),\n",
        "                          \"v6_6_740nm-s\":os.path.join(path_dir, \"v6-740nm/segmented-images/v6_6_740nm_Simple-Segmentation.h5\"),\n",
        "                          \"v6_3_780nm-s\":os.path.join(path_dir, \"v6-780nm/segmented-images/v6_3_780nm_Simple-Segmentation.h5\"),\n",
        "                          \"v6_4_780nm-s\":os.path.join(path_dir, \"v6-780nm/segmented-images/v6_4_780nm_Simple-Segmentation.h5\"),\n",
        "                          \"v6_5_780nm-s\":os.path.join(path_dir, \"v6-780nm/segmented-images/v6_5_780nm_Simple-Segmentation.h5\"),\n",
        "                          \"v6_6_780nm-s\":os.path.join(path_dir, \"v6-780nm/segmented-images/v6_6_780nm_Simple-Segmentation.h5\"),\n",
        "                          \"v6_3_820nm-s\":os.path.join(path_dir, \"v6-820nm/segmented-images/v6_3_820nm_Simple-Segmentation.h5\"),\n",
        "                          \"v6_4_820nm-s\":os.path.join(path_dir, \"v6-820nm/segmented-images/v6_4_820nm_Simple-Segmentation.h5\"),\n",
        "                          \"v6_5_820nm-s\":os.path.join(path_dir, \"v6-820nm/segmented-images/v6_5_820nm_Simple-Segmentation.h5\"),\n",
        "                          \"v6_6_820nm-s\":os.path.join(path_dir, \"v6-820nm/segmented-images/v6_6_820nm_Simple-Segmentation.h5\")}"
      ],
      "id": "a0de5ad0",
      "execution_count": 44,
      "outputs": []
    },
    {
      "cell_type": "code",
      "metadata": {
        "id": "3b58ba11"
      },
      "source": [
        "#Dictionnaire qui contient les images originales (format hdf5)\n",
        "aux_raw_images = {}\n",
        "for name, path in raw_images_names.items():\n",
        "    aux_raw_images[name] = h5py.File(path, 'r')"
      ],
      "id": "3b58ba11",
      "execution_count": 45,
      "outputs": []
    },
    {
      "cell_type": "code",
      "metadata": {
        "id": "3ajKRlhTB1IN"
      },
      "source": [
        "#Dictionnaire qui contient les images après segmentation (format hdf5)\n",
        "aux_segmented_images = {}\n",
        "for name, path in segmented_images_names.items():\n",
        "    aux_segmented_images[name] = h5py.File(path, 'r')"
      ],
      "id": "3ajKRlhTB1IN",
      "execution_count": 46,
      "outputs": []
    },
    {
      "cell_type": "code",
      "metadata": {
        "id": "Xhhk88BUcy3M",
        "colab": {
          "base_uri": "https://localhost:8080/",
          "height": 434
        },
        "outputId": "0d25f526-2496-45dc-e251-c97fd33dc158"
      },
      "source": [
        "#Dictionnaire qui contient les images originales (utilisables, tableaux Python)\n",
        "raw_images = {}\n",
        "for name, img in aux_raw_images.items():\n",
        "  print(name)\n",
        "  raw_images[name] = np.reshape(aux_raw_images[name]['data'], (12,512,512,32))"
      ],
      "id": "Xhhk88BUcy3M",
      "execution_count": 47,
      "outputs": [
        {
          "output_type": "stream",
          "name": "stdout",
          "text": [
            "j5_1_740nm\n",
            "j5_2_740nm\n"
          ]
        },
        {
          "output_type": "error",
          "ename": "ValueError",
          "evalue": "ignored",
          "traceback": [
            "\u001b[0;31m---------------------------------------------------------------------------\u001b[0m",
            "\u001b[0;31mValueError\u001b[0m                                Traceback (most recent call last)",
            "\u001b[0;32m<ipython-input-47-967f3be80325>\u001b[0m in \u001b[0;36m<module>\u001b[0;34m()\u001b[0m\n\u001b[1;32m      3\u001b[0m \u001b[0;32mfor\u001b[0m \u001b[0mname\u001b[0m\u001b[0;34m,\u001b[0m \u001b[0mimg\u001b[0m \u001b[0;32min\u001b[0m \u001b[0maux_raw_images\u001b[0m\u001b[0;34m.\u001b[0m\u001b[0mitems\u001b[0m\u001b[0;34m(\u001b[0m\u001b[0;34m)\u001b[0m\u001b[0;34m:\u001b[0m\u001b[0;34m\u001b[0m\u001b[0;34m\u001b[0m\u001b[0m\n\u001b[1;32m      4\u001b[0m   \u001b[0mprint\u001b[0m\u001b[0;34m(\u001b[0m\u001b[0mname\u001b[0m\u001b[0;34m)\u001b[0m\u001b[0;34m\u001b[0m\u001b[0;34m\u001b[0m\u001b[0m\n\u001b[0;32m----> 5\u001b[0;31m   \u001b[0mraw_images\u001b[0m\u001b[0;34m[\u001b[0m\u001b[0mname\u001b[0m\u001b[0;34m]\u001b[0m \u001b[0;34m=\u001b[0m \u001b[0mnp\u001b[0m\u001b[0;34m.\u001b[0m\u001b[0mreshape\u001b[0m\u001b[0;34m(\u001b[0m\u001b[0maux_raw_images\u001b[0m\u001b[0;34m[\u001b[0m\u001b[0mname\u001b[0m\u001b[0;34m]\u001b[0m\u001b[0;34m[\u001b[0m\u001b[0;34m'data'\u001b[0m\u001b[0;34m]\u001b[0m\u001b[0;34m,\u001b[0m \u001b[0;34m(\u001b[0m\u001b[0;36m12\u001b[0m\u001b[0;34m,\u001b[0m\u001b[0;36m512\u001b[0m\u001b[0;34m,\u001b[0m\u001b[0;36m512\u001b[0m\u001b[0;34m,\u001b[0m\u001b[0;36m32\u001b[0m\u001b[0;34m)\u001b[0m\u001b[0;34m)\u001b[0m\u001b[0;34m\u001b[0m\u001b[0;34m\u001b[0m\u001b[0m\n\u001b[0m",
            "\u001b[0;32m<__array_function__ internals>\u001b[0m in \u001b[0;36mreshape\u001b[0;34m(*args, **kwargs)\u001b[0m\n",
            "\u001b[0;32m/usr/local/lib/python3.7/dist-packages/numpy/core/fromnumeric.py\u001b[0m in \u001b[0;36mreshape\u001b[0;34m(a, newshape, order)\u001b[0m\n\u001b[1;32m    297\u001b[0m            [5, 6]])\n\u001b[1;32m    298\u001b[0m     \"\"\"\n\u001b[0;32m--> 299\u001b[0;31m     \u001b[0;32mreturn\u001b[0m \u001b[0m_wrapfunc\u001b[0m\u001b[0;34m(\u001b[0m\u001b[0ma\u001b[0m\u001b[0;34m,\u001b[0m \u001b[0;34m'reshape'\u001b[0m\u001b[0;34m,\u001b[0m \u001b[0mnewshape\u001b[0m\u001b[0;34m,\u001b[0m \u001b[0morder\u001b[0m\u001b[0;34m=\u001b[0m\u001b[0morder\u001b[0m\u001b[0;34m)\u001b[0m\u001b[0;34m\u001b[0m\u001b[0;34m\u001b[0m\u001b[0m\n\u001b[0m\u001b[1;32m    300\u001b[0m \u001b[0;34m\u001b[0m\u001b[0m\n\u001b[1;32m    301\u001b[0m \u001b[0;34m\u001b[0m\u001b[0m\n",
            "\u001b[0;32m/usr/local/lib/python3.7/dist-packages/numpy/core/fromnumeric.py\u001b[0m in \u001b[0;36m_wrapfunc\u001b[0;34m(obj, method, *args, **kwds)\u001b[0m\n\u001b[1;32m     53\u001b[0m     \u001b[0mbound\u001b[0m \u001b[0;34m=\u001b[0m \u001b[0mgetattr\u001b[0m\u001b[0;34m(\u001b[0m\u001b[0mobj\u001b[0m\u001b[0;34m,\u001b[0m \u001b[0mmethod\u001b[0m\u001b[0;34m,\u001b[0m \u001b[0;32mNone\u001b[0m\u001b[0;34m)\u001b[0m\u001b[0;34m\u001b[0m\u001b[0;34m\u001b[0m\u001b[0m\n\u001b[1;32m     54\u001b[0m     \u001b[0;32mif\u001b[0m \u001b[0mbound\u001b[0m \u001b[0;32mis\u001b[0m \u001b[0;32mNone\u001b[0m\u001b[0;34m:\u001b[0m\u001b[0;34m\u001b[0m\u001b[0;34m\u001b[0m\u001b[0m\n\u001b[0;32m---> 55\u001b[0;31m         \u001b[0;32mreturn\u001b[0m \u001b[0m_wrapit\u001b[0m\u001b[0;34m(\u001b[0m\u001b[0mobj\u001b[0m\u001b[0;34m,\u001b[0m \u001b[0mmethod\u001b[0m\u001b[0;34m,\u001b[0m \u001b[0;34m*\u001b[0m\u001b[0margs\u001b[0m\u001b[0;34m,\u001b[0m \u001b[0;34m**\u001b[0m\u001b[0mkwds\u001b[0m\u001b[0;34m)\u001b[0m\u001b[0;34m\u001b[0m\u001b[0;34m\u001b[0m\u001b[0m\n\u001b[0m\u001b[1;32m     56\u001b[0m \u001b[0;34m\u001b[0m\u001b[0m\n\u001b[1;32m     57\u001b[0m     \u001b[0;32mtry\u001b[0m\u001b[0;34m:\u001b[0m\u001b[0;34m\u001b[0m\u001b[0;34m\u001b[0m\u001b[0m\n",
            "\u001b[0;32m/usr/local/lib/python3.7/dist-packages/numpy/core/fromnumeric.py\u001b[0m in \u001b[0;36m_wrapit\u001b[0;34m(obj, method, *args, **kwds)\u001b[0m\n\u001b[1;32m     42\u001b[0m     \u001b[0;32mexcept\u001b[0m \u001b[0mAttributeError\u001b[0m\u001b[0;34m:\u001b[0m\u001b[0;34m\u001b[0m\u001b[0;34m\u001b[0m\u001b[0m\n\u001b[1;32m     43\u001b[0m         \u001b[0mwrap\u001b[0m \u001b[0;34m=\u001b[0m \u001b[0;32mNone\u001b[0m\u001b[0;34m\u001b[0m\u001b[0;34m\u001b[0m\u001b[0m\n\u001b[0;32m---> 44\u001b[0;31m     \u001b[0mresult\u001b[0m \u001b[0;34m=\u001b[0m \u001b[0mgetattr\u001b[0m\u001b[0;34m(\u001b[0m\u001b[0masarray\u001b[0m\u001b[0;34m(\u001b[0m\u001b[0mobj\u001b[0m\u001b[0;34m)\u001b[0m\u001b[0;34m,\u001b[0m \u001b[0mmethod\u001b[0m\u001b[0;34m)\u001b[0m\u001b[0;34m(\u001b[0m\u001b[0;34m*\u001b[0m\u001b[0margs\u001b[0m\u001b[0;34m,\u001b[0m \u001b[0;34m**\u001b[0m\u001b[0mkwds\u001b[0m\u001b[0;34m)\u001b[0m\u001b[0;34m\u001b[0m\u001b[0;34m\u001b[0m\u001b[0m\n\u001b[0m\u001b[1;32m     45\u001b[0m     \u001b[0;32mif\u001b[0m \u001b[0mwrap\u001b[0m\u001b[0;34m:\u001b[0m\u001b[0;34m\u001b[0m\u001b[0;34m\u001b[0m\u001b[0m\n\u001b[1;32m     46\u001b[0m         \u001b[0;32mif\u001b[0m \u001b[0;32mnot\u001b[0m \u001b[0misinstance\u001b[0m\u001b[0;34m(\u001b[0m\u001b[0mresult\u001b[0m\u001b[0;34m,\u001b[0m \u001b[0mmu\u001b[0m\u001b[0;34m.\u001b[0m\u001b[0mndarray\u001b[0m\u001b[0;34m)\u001b[0m\u001b[0;34m:\u001b[0m\u001b[0;34m\u001b[0m\u001b[0;34m\u001b[0m\u001b[0m\n",
            "\u001b[0;31mValueError\u001b[0m: cannot reshape array of size 117440512 into shape (12,512,512,32)"
          ]
        }
      ]
    },
    {
      "cell_type": "code",
      "metadata": {
        "id": "HHTG7vfUdHZI",
        "colab": {
          "base_uri": "https://localhost:8080/",
          "height": 434
        },
        "outputId": "aad4fa8a-8ad8-4dd0-c2d9-44210b38e6cf"
      },
      "source": [
        "#Dictionnaire qui contient les images après segmentation (utilisables, tableau Python)\n",
        "segmented_images = {}\n",
        "for name, img in aux_segmented_images.items():\n",
        "  print(name)\n",
        "  segmented_images[name] = np.reshape(aux_segmented_images[name]['exported_data'], (12,512,512))"
      ],
      "id": "HHTG7vfUdHZI",
      "execution_count": 48,
      "outputs": [
        {
          "output_type": "stream",
          "name": "stdout",
          "text": [
            "j5_1_740nm-s\n",
            "j5_2_740nm-s\n"
          ]
        },
        {
          "output_type": "error",
          "ename": "ValueError",
          "evalue": "ignored",
          "traceback": [
            "\u001b[0;31m---------------------------------------------------------------------------\u001b[0m",
            "\u001b[0;31mValueError\u001b[0m                                Traceback (most recent call last)",
            "\u001b[0;32m<ipython-input-48-21f0a8c41f5b>\u001b[0m in \u001b[0;36m<module>\u001b[0;34m()\u001b[0m\n\u001b[1;32m      3\u001b[0m \u001b[0;32mfor\u001b[0m \u001b[0mname\u001b[0m\u001b[0;34m,\u001b[0m \u001b[0mimg\u001b[0m \u001b[0;32min\u001b[0m \u001b[0maux_segmented_images\u001b[0m\u001b[0;34m.\u001b[0m\u001b[0mitems\u001b[0m\u001b[0;34m(\u001b[0m\u001b[0;34m)\u001b[0m\u001b[0;34m:\u001b[0m\u001b[0;34m\u001b[0m\u001b[0;34m\u001b[0m\u001b[0m\n\u001b[1;32m      4\u001b[0m   \u001b[0mprint\u001b[0m\u001b[0;34m(\u001b[0m\u001b[0mname\u001b[0m\u001b[0;34m)\u001b[0m\u001b[0;34m\u001b[0m\u001b[0;34m\u001b[0m\u001b[0m\n\u001b[0;32m----> 5\u001b[0;31m   \u001b[0msegmented_images\u001b[0m\u001b[0;34m[\u001b[0m\u001b[0mname\u001b[0m\u001b[0;34m]\u001b[0m \u001b[0;34m=\u001b[0m \u001b[0mnp\u001b[0m\u001b[0;34m.\u001b[0m\u001b[0mreshape\u001b[0m\u001b[0;34m(\u001b[0m\u001b[0maux_segmented_images\u001b[0m\u001b[0;34m[\u001b[0m\u001b[0mname\u001b[0m\u001b[0;34m]\u001b[0m\u001b[0;34m[\u001b[0m\u001b[0;34m'exported_data'\u001b[0m\u001b[0;34m]\u001b[0m\u001b[0;34m,\u001b[0m \u001b[0;34m(\u001b[0m\u001b[0;36m12\u001b[0m\u001b[0;34m,\u001b[0m\u001b[0;36m512\u001b[0m\u001b[0;34m,\u001b[0m\u001b[0;36m512\u001b[0m\u001b[0;34m)\u001b[0m\u001b[0;34m)\u001b[0m\u001b[0;34m\u001b[0m\u001b[0;34m\u001b[0m\u001b[0m\n\u001b[0m",
            "\u001b[0;32m<__array_function__ internals>\u001b[0m in \u001b[0;36mreshape\u001b[0;34m(*args, **kwargs)\u001b[0m\n",
            "\u001b[0;32m/usr/local/lib/python3.7/dist-packages/numpy/core/fromnumeric.py\u001b[0m in \u001b[0;36mreshape\u001b[0;34m(a, newshape, order)\u001b[0m\n\u001b[1;32m    297\u001b[0m            [5, 6]])\n\u001b[1;32m    298\u001b[0m     \"\"\"\n\u001b[0;32m--> 299\u001b[0;31m     \u001b[0;32mreturn\u001b[0m \u001b[0m_wrapfunc\u001b[0m\u001b[0;34m(\u001b[0m\u001b[0ma\u001b[0m\u001b[0;34m,\u001b[0m \u001b[0;34m'reshape'\u001b[0m\u001b[0;34m,\u001b[0m \u001b[0mnewshape\u001b[0m\u001b[0;34m,\u001b[0m \u001b[0morder\u001b[0m\u001b[0;34m=\u001b[0m\u001b[0morder\u001b[0m\u001b[0;34m)\u001b[0m\u001b[0;34m\u001b[0m\u001b[0;34m\u001b[0m\u001b[0m\n\u001b[0m\u001b[1;32m    300\u001b[0m \u001b[0;34m\u001b[0m\u001b[0m\n\u001b[1;32m    301\u001b[0m \u001b[0;34m\u001b[0m\u001b[0m\n",
            "\u001b[0;32m/usr/local/lib/python3.7/dist-packages/numpy/core/fromnumeric.py\u001b[0m in \u001b[0;36m_wrapfunc\u001b[0;34m(obj, method, *args, **kwds)\u001b[0m\n\u001b[1;32m     53\u001b[0m     \u001b[0mbound\u001b[0m \u001b[0;34m=\u001b[0m \u001b[0mgetattr\u001b[0m\u001b[0;34m(\u001b[0m\u001b[0mobj\u001b[0m\u001b[0;34m,\u001b[0m \u001b[0mmethod\u001b[0m\u001b[0;34m,\u001b[0m \u001b[0;32mNone\u001b[0m\u001b[0;34m)\u001b[0m\u001b[0;34m\u001b[0m\u001b[0;34m\u001b[0m\u001b[0m\n\u001b[1;32m     54\u001b[0m     \u001b[0;32mif\u001b[0m \u001b[0mbound\u001b[0m \u001b[0;32mis\u001b[0m \u001b[0;32mNone\u001b[0m\u001b[0;34m:\u001b[0m\u001b[0;34m\u001b[0m\u001b[0;34m\u001b[0m\u001b[0m\n\u001b[0;32m---> 55\u001b[0;31m         \u001b[0;32mreturn\u001b[0m \u001b[0m_wrapit\u001b[0m\u001b[0;34m(\u001b[0m\u001b[0mobj\u001b[0m\u001b[0;34m,\u001b[0m \u001b[0mmethod\u001b[0m\u001b[0;34m,\u001b[0m \u001b[0;34m*\u001b[0m\u001b[0margs\u001b[0m\u001b[0;34m,\u001b[0m \u001b[0;34m**\u001b[0m\u001b[0mkwds\u001b[0m\u001b[0;34m)\u001b[0m\u001b[0;34m\u001b[0m\u001b[0;34m\u001b[0m\u001b[0m\n\u001b[0m\u001b[1;32m     56\u001b[0m \u001b[0;34m\u001b[0m\u001b[0m\n\u001b[1;32m     57\u001b[0m     \u001b[0;32mtry\u001b[0m\u001b[0;34m:\u001b[0m\u001b[0;34m\u001b[0m\u001b[0;34m\u001b[0m\u001b[0m\n",
            "\u001b[0;32m/usr/local/lib/python3.7/dist-packages/numpy/core/fromnumeric.py\u001b[0m in \u001b[0;36m_wrapit\u001b[0;34m(obj, method, *args, **kwds)\u001b[0m\n\u001b[1;32m     42\u001b[0m     \u001b[0;32mexcept\u001b[0m \u001b[0mAttributeError\u001b[0m\u001b[0;34m:\u001b[0m\u001b[0;34m\u001b[0m\u001b[0;34m\u001b[0m\u001b[0m\n\u001b[1;32m     43\u001b[0m         \u001b[0mwrap\u001b[0m \u001b[0;34m=\u001b[0m \u001b[0;32mNone\u001b[0m\u001b[0;34m\u001b[0m\u001b[0;34m\u001b[0m\u001b[0m\n\u001b[0;32m---> 44\u001b[0;31m     \u001b[0mresult\u001b[0m \u001b[0;34m=\u001b[0m \u001b[0mgetattr\u001b[0m\u001b[0;34m(\u001b[0m\u001b[0masarray\u001b[0m\u001b[0;34m(\u001b[0m\u001b[0mobj\u001b[0m\u001b[0;34m)\u001b[0m\u001b[0;34m,\u001b[0m \u001b[0mmethod\u001b[0m\u001b[0;34m)\u001b[0m\u001b[0;34m(\u001b[0m\u001b[0;34m*\u001b[0m\u001b[0margs\u001b[0m\u001b[0;34m,\u001b[0m \u001b[0;34m**\u001b[0m\u001b[0mkwds\u001b[0m\u001b[0;34m)\u001b[0m\u001b[0;34m\u001b[0m\u001b[0;34m\u001b[0m\u001b[0m\n\u001b[0m\u001b[1;32m     45\u001b[0m     \u001b[0;32mif\u001b[0m \u001b[0mwrap\u001b[0m\u001b[0;34m:\u001b[0m\u001b[0;34m\u001b[0m\u001b[0;34m\u001b[0m\u001b[0m\n\u001b[1;32m     46\u001b[0m         \u001b[0;32mif\u001b[0m \u001b[0;32mnot\u001b[0m \u001b[0misinstance\u001b[0m\u001b[0;34m(\u001b[0m\u001b[0mresult\u001b[0m\u001b[0;34m,\u001b[0m \u001b[0mmu\u001b[0m\u001b[0;34m.\u001b[0m\u001b[0mndarray\u001b[0m\u001b[0;34m)\u001b[0m\u001b[0;34m:\u001b[0m\u001b[0;34m\u001b[0m\u001b[0;34m\u001b[0m\u001b[0m\n",
            "\u001b[0;31mValueError\u001b[0m: cannot reshape array of size 3670016 into shape (12,512,512)"
          ]
        }
      ]
    },
    {
      "cell_type": "markdown",
      "metadata": {
        "id": "f13e5068"
      },
      "source": [
        "## 2. Caractéristiques des images"
      ],
      "id": "f13e5068"
    },
    {
      "cell_type": "code",
      "metadata": {
        "id": "792d70f3",
        "colab": {
          "base_uri": "https://localhost:8080/"
        },
        "outputId": "2468bb10-52b1-4e14-f66d-fb95e85f4d2c"
      },
      "source": [
        "print(\"Dimensions de l'image originale (z, y, x, c) :\", raw_images[\"j5_1_740nm\"].shape)\n",
        "print(\"Dimensions de l'image segmentée (z, y, x) :\", segmented_images[\"j5_1_740nm-s\"].shape)"
      ],
      "id": "792d70f3",
      "execution_count": 10,
      "outputs": [
        {
          "output_type": "stream",
          "name": "stdout",
          "text": [
            "Dimensions de l'image originale (z, y, x, c) : (12, 512, 512, 32)\n",
            "Dimensions de l'image segmentée (z, y, x) : (12, 512, 512)\n"
          ]
        }
      ]
    },
    {
      "cell_type": "markdown",
      "metadata": {
        "id": "Gc-CcywDEVFe"
      },
      "source": [
        "## 3. Aperçu des images"
      ],
      "id": "Gc-CcywDEVFe"
    },
    {
      "cell_type": "code",
      "metadata": {
        "colab": {
          "base_uri": "https://localhost:8080/"
        },
        "id": "cUPtAlBGFAuA",
        "outputId": "d8a0bc8c-cd2f-4b5c-9064-d4c53f838fda"
      },
      "source": [
        "print(\"Valeurs des 32 canaux du premier voxel de l'image originale :\", raw_images[\"j5_1_740nm\"][0][0][0][:], \"\\n\")\n",
        "print(\"Valeur du premier voxel de l'image segmentée (1 = muscle // 2 = non muscle) :\", segmented_images[\"j5_1_740nm-s\"][0][0][0])"
      ],
      "id": "cUPtAlBGFAuA",
      "execution_count": 11,
      "outputs": [
        {
          "output_type": "stream",
          "name": "stdout",
          "text": [
            "Valeurs des 32 canaux du premier voxel de l'image originale : [173 236 207 191  34 160  45 193 187 247  64  93 312  84 264 204 140 224\n",
            " 125 180  95 146 130 183 179 120   2 119 261 158 177 119] \n",
            "\n",
            "Valeur du premier voxel de l'image segmentée (1 = muscle // 2 = non muscle) : 2\n"
          ]
        }
      ]
    },
    {
      "cell_type": "markdown",
      "metadata": {
        "id": "2RAmnrb_Pe2O"
      },
      "source": [
        "## 4. Modification des images segmentées"
      ],
      "id": "2RAmnrb_Pe2O"
    },
    {
      "cell_type": "code",
      "metadata": {
        "id": "QUDIfvO3QbXY"
      },
      "source": [
        "#Création d'un \"filtre\" pour isoler les valeurs des voxels correspondant à du muscle\n",
        "filtre_muscle = segmented_images[\"j5_1_740nm-s\"] - 2*np.ones((12,512,512))\n",
        "filtre_muscle = np.abs(filtre_muscle)"
      ],
      "id": "QUDIfvO3QbXY",
      "execution_count": 12,
      "outputs": []
    },
    {
      "cell_type": "code",
      "metadata": {
        "id": "fXkEWtskRTfl"
      },
      "source": [
        "#Création d'un \"filtre\" pour isoler les valeurs des voxels correspondant à ce qui n'est pas du muscle\n",
        "filtre_autre = segmented_images[\"j5_1_740nm-s\"] - np.ones((12,512,512))\n",
        "filtre_autre = np.abs(filtre_autre)"
      ],
      "id": "fXkEWtskRTfl",
      "execution_count": 13,
      "outputs": []
    },
    {
      "cell_type": "markdown",
      "metadata": {
        "id": "9t4N2NLQGsaP"
      },
      "source": [
        "## 5. Spectres moyens des images"
      ],
      "id": "9t4N2NLQGsaP"
    },
    {
      "cell_type": "code",
      "metadata": {
        "id": "iq1wWDwVQpXm"
      },
      "source": [
        "MEAN_SPECTRUM = np.zeros(32)\n",
        "unique, counts = np.unique(filtre_muscle, return_counts=True)\n",
        "d = dict(zip(unique, counts))"
      ],
      "id": "iq1wWDwVQpXm",
      "execution_count": 14,
      "outputs": []
    },
    {
      "cell_type": "code",
      "metadata": {
        "id": "JW96zpA4QvP6"
      },
      "source": [
        "for i in range(32):\n",
        "  muscle = filtre_muscle*raw_images[\"j5_1_740nm\"][:,:,:,i]\n",
        "  MEAN_SPECTRUM[i] = np.sum(muscle)/d[1]"
      ],
      "id": "JW96zpA4QvP6",
      "execution_count": 15,
      "outputs": []
    },
    {
      "cell_type": "code",
      "metadata": {
        "colab": {
          "base_uri": "https://localhost:8080/",
          "height": 279
        },
        "id": "jGtPy2J2RtIn",
        "outputId": "f33ad22b-85e0-46b6-f722-f5c832ab20e6"
      },
      "source": [
        "plt.plot(MEAN_SPECTRUM)\n",
        "plt.ylabel(\"Valeur moyenne\")\n",
        "plt.xlabel(\"Canal\")\n",
        "plt.show()"
      ],
      "id": "jGtPy2J2RtIn",
      "execution_count": 16,
      "outputs": [
        {
          "output_type": "display_data",
          "data": {
            "image/png": "[encoded data removed]",
            "text/plain": [
              "<Figure size 432x288 with 1 Axes>"
            ]
          },
          "metadata": {
            "needs_background": "light"
          }
        }
      ]
    },
    {
      "cell_type": "markdown",
      "metadata": {
        "id": "5UYYryuDYxqc"
      },
      "source": [
        "## 6. Stockage"
      ],
      "id": "5UYYryuDYxqc"
    },
    {
      "cell_type": "code",
      "metadata": {
        "id": "db77312a"
      },
      "source": [
        "Muscle = pd.DataFrame(columns=[\"Image\", \"Âge\", \"C00\", \"C01\", \"C02\", \"C03\", \"C04\", \"C05\", \"C06\", \"C07\", \"C08\", \"C09\", \"C10\", \"C11\", \"C12\", \"C13\", \"C14\",\n",
        "                               \"C15\", \"C16\", \"C17\", \"C18\", \"C19\", \"C20\", \"C21\", \"C22\", \"C23\", \"C24\", \"C25\", \"C26\", \"C27\", \"C28\", \"C29\", \"C30\", \"C31\"])"
      ],
      "id": "db77312a",
      "execution_count": 17,
      "outputs": []
    },
    {
      "cell_type": "code",
      "metadata": {
        "id": "bKHrJl9pWhoI"
      },
      "source": [
        "AUX0 = np.copy(MEAN_SPECTRUM)\n",
        "AUX = np.array([\"j5_1_740nm\", \"Jeune\"])\n",
        "AUX = np.append(AUX, AUX0)\n",
        "Df_aux = pd.Series(AUX, index = Muscle.columns)"
      ],
      "id": "bKHrJl9pWhoI",
      "execution_count": 18,
      "outputs": []
    },
    {
      "cell_type": "code",
      "metadata": {
        "id": "MXYJ6EwxXVMM"
      },
      "source": [
        "Muscle = Muscle.append(Df_aux, ignore_index=True)"
      ],
      "id": "MXYJ6EwxXVMM",
      "execution_count": 19,
      "outputs": []
    },
    {
      "cell_type": "code",
      "metadata": {
        "colab": {
          "base_uri": "https://localhost:8080/",
          "height": 101
        },
        "id": "XOQyKseHVjoK",
        "outputId": "7d14edc2-f7ff-4e89-b397-4c9ca8ab9dc1"
      },
      "source": [
        "Muscle"
      ],
      "id": "XOQyKseHVjoK",
      "execution_count": 20,
      "outputs": [
        {
          "output_type": "execute_result",
          "data": {
            "text/html": [
              "<div>\n",
              "<style scoped>\n",
              "    .dataframe tbody tr th:only-of-type {\n",
              "        vertical-align: middle;\n",
              "    }\n",
              "\n",
              "    .dataframe tbody tr th {\n",
              "        vertical-align: top;\n",
              "    }\n",
              "\n",
              "    .dataframe thead th {\n",
              "        text-align: right;\n",
              "    }\n",
              "</style>\n",
              "<table border=\"1\" class=\"dataframe\">\n",
              "  <thead>\n",
              "    <tr style=\"text-align: right;\">\n",
              "      <th></th>\n",
              "      <th>Image</th>\n",
              "      <th>Âge</th>\n",
              "      <th>C00</th>\n",
              "      <th>C01</th>\n",
              "      <th>C02</th>\n",
              "      <th>C03</th>\n",
              "      <th>C04</th>\n",
              "      <th>C05</th>\n",
              "      <th>C06</th>\n",
              "      <th>C07</th>\n",
              "      <th>C08</th>\n",
              "      <th>C09</th>\n",
              "      <th>C10</th>\n",
              "      <th>C11</th>\n",
              "      <th>C12</th>\n",
              "      <th>C13</th>\n",
              "      <th>C14</th>\n",
              "      <th>C15</th>\n",
              "      <th>C16</th>\n",
              "      <th>C17</th>\n",
              "      <th>C18</th>\n",
              "      <th>C19</th>\n",
              "      <th>C20</th>\n",
              "      <th>C21</th>\n",
              "      <th>C22</th>\n",
              "      <th>C23</th>\n",
              "      <th>C24</th>\n",
              "      <th>C25</th>\n",
              "      <th>C26</th>\n",
              "      <th>C27</th>\n",
              "      <th>C28</th>\n",
              "      <th>C29</th>\n",
              "      <th>C30</th>\n",
              "      <th>C31</th>\n",
              "    </tr>\n",
              "  </thead>\n",
              "  <tbody>\n",
              "    <tr>\n",
              "      <th>0</th>\n",
              "      <td>j5_1_740nm</td>\n",
              "      <td>Jeune</td>\n",
              "      <td>2173.524010318712</td>\n",
              "      <td>2634.3712682420637</td>\n",
              "      <td>3425.23209131723</td>\n",
              "      <td>4202.452455292479</td>\n",
              "      <td>4694.930900496162</td>\n",
              "      <td>5074.954744507646</td>\n",
              "      <td>5318.67823613174</td>\n",
              "      <td>5309.326855781744</td>\n",
              "      <td>5001.528472257349</td>\n",
              "      <td>4877.456207551421</td>\n",
              "      <td>4986.915022371005</td>\n",
              "      <td>4727.20228477009</td>\n",
              "      <td>4538.631107575486</td>\n",
              "      <td>4232.871226090462</td>\n",
              "      <td>4070.4012265349697</td>\n",
              "      <td>3872.818124269053</td>\n",
              "      <td>3544.0682288816643</td>\n",
              "      <td>3307.0601434380687</td>\n",
              "      <td>3182.953617910292</td>\n",
              "      <td>2986.6278320128386</td>\n",
              "      <td>2847.9779370852857</td>\n",
              "      <td>2633.568148410425</td>\n",
              "      <td>2402.034231698924</td>\n",
              "      <td>2292.6129164769845</td>\n",
              "      <td>2013.791881448237</td>\n",
              "      <td>1870.553599210309</td>\n",
              "      <td>1705.8596259696785</td>\n",
              "      <td>1576.254445461192</td>\n",
              "      <td>1185.074928687154</td>\n",
              "      <td>252.25361009308605</td>\n",
              "      <td>74.72763321055722</td>\n",
              "      <td>55.25420481386619</td>\n",
              "    </tr>\n",
              "  </tbody>\n",
              "</table>\n",
              "</div>"
            ],
            "text/plain": [
              "        Image    Âge  ...                C30                C31\n",
              "0  j5_1_740nm  Jeune  ...  74.72763321055722  55.25420481386619\n",
              "\n",
              "[1 rows x 34 columns]"
            ]
          },
          "metadata": {},
          "execution_count": 20
        }
      ]
    },
    {
      "cell_type": "markdown",
      "metadata": {
        "id": "Pate47tGGDX4"
      },
      "source": [
        "## Annexes : Tests code"
      ],
      "id": "Pate47tGGDX4"
    },
    {
      "cell_type": "code",
      "metadata": {
        "id": "eMLVJSQiXcQN",
        "colab": {
          "base_uri": "https://localhost:8080/",
          "height": 134
        },
        "outputId": "674b1d85-28fb-4ec1-e981-884eabb19c6e"
      },
      "source": [
        "def test(dset) :\n",
        "  if (dset[0][z][y][x][0]==1)\n",
        "#MEAN_CHANNELS[c] += dset[0][z][y][x][c]\n",
        "#def sqrt_func(i, j):\n",
        "    #time.sleep(1)\n",
        "    #return math.sqrt(i**j)\n",
        "\n",
        "#Parallel(n_jobs=2)(delayed(sqrt_func)(i, j) for i in range(5) for j in range(2))\n"
      ],
      "id": "eMLVJSQiXcQN",
      "execution_count": 21,
      "outputs": [
        {
          "output_type": "error",
          "ename": "SyntaxError",
          "evalue": "ignored",
          "traceback": [
            "\u001b[0;36m  File \u001b[0;32m\"<ipython-input-21-9cf64df7d8c1>\"\u001b[0;36m, line \u001b[0;32m2\u001b[0m\n\u001b[0;31m    if (dset[0][z][y][x][0]==1)\u001b[0m\n\u001b[0m                               ^\u001b[0m\n\u001b[0;31mSyntaxError\u001b[0m\u001b[0;31m:\u001b[0m invalid syntax\n"
          ]
        }
      ]
    }
  ]
}